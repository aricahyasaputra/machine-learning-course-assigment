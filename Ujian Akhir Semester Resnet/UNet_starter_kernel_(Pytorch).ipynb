{
  "cells": [
    {
      "cell_type": "markdown",
      "metadata": {
        "id": "view-in-github",
        "colab_type": "text"
      },
      "source": [
        "<a href=\"https://colab.research.google.com/github/aricahyasaputra/machine-learning-course-assigment/blob/main/Ujian%20Akhir%20Semester%20Resnet/UNet_starter_kernel_(Pytorch).ipynb\" target=\"_parent\"><img src=\"https://colab.research.google.com/assets/colab-badge.svg\" alt=\"Open In Colab\"/></a>"
      ]
    },
    {
      "cell_type": "markdown",
      "source": [
        "Nama Kelompok :\n",
        "*   Ari Cahya Saputra (1103190093)\n",
        "*   Alvin Anandra Brilliandy (1103190111)\n",
        "\n",
        "Kelas : TK-42-PIL\n"
      ],
      "metadata": {
        "id": "-OzlIb5ofBPv"
      }
    },
    {
      "cell_type": "markdown",
      "metadata": {
        "id": "O3B6n55Ceyri"
      },
      "source": [
        "## UNet starter for Steel defect detection challenge\n",
        "\n",
        "\n",
        "This kernel uses a UNet model with pretrained resnet18 encoder for this challenge, with simple augmentations using albumentations library, uses BCE loss, metrics like Dice and IoU. I've used [segmentation_models.pytorch](https://github.com/qubvel/segmentation_models.pytorch) which comes with a lot pre-implemented segmentation architectures. This is a modified version of my previous [kernel](https://www.kaggle.com/rishabhiitbhu/unet-with-resnet34-encoder-pytorch) for [siim-acr-pneumothorax-segmentation](https://www.kaggle.com/c/siim-acr-pneumothorax-segmentation/) competition."
      ]
    },
    {
      "cell_type": "markdown",
      "metadata": {
        "id": "abP6Ym35eyrl"
      },
      "source": [
        "**As internet is not allowed for this competition, I tried installing `segmentation_models.pytorch` by source using pip but due to some reasons it didn't work. So, as a [Jugaad](https://en.wikipedia.org/wiki/Jugaad) I took all of `segmentation_models.pytorch`'s UNet code and wrote it in a single file and added it as a dataset so as to use it for this kernel, its dependency [pretrained-models.pytorch](https://github.com/Cadene/pretrained-models.pytorch) is also added as a dataset."
      ]
    },
    {
      "cell_type": "code",
      "execution_count": null,
      "metadata": {
        "_cell_guid": "b1076dfc-b9ad-4769-8c92-a6c4dae69d19",
        "_uuid": "8f2839f25d086af736a60e9eeb907d3b93b6e0e5",
        "id": "u9esPHtgeyrn"
      },
      "outputs": [],
      "source": [
        "!pip install ../input/pretrainedmodels/pretrainedmodels-0.7.4/pretrainedmodels-0.7.4/ > /dev/null # no output\n",
        "package_path = '../input/unetmodelscript' # add unet script dataset\n",
        "import sys\n",
        "sys.path.append(package_path)\n",
        "from model import Unet # import Unet model from the script"
      ]
    },
    {
      "cell_type": "markdown",
      "metadata": {
        "id": "SCor2KvIeyro"
      },
      "source": [
        "## Imports"
      ]
    },
    {
      "cell_type": "code",
      "execution_count": null,
      "metadata": {
        "_cell_guid": "79c7e3d0-c299-4dcb-8224-4455121ee9b0",
        "_uuid": "d629ff2d2480ee46fbb7e2d37f6b5fab8052498a",
        "id": "zOlVj5WEeyrp"
      },
      "outputs": [],
      "source": [
        "import os\n",
        "import cv2\n",
        "import pdb\n",
        "import time\n",
        "import warnings\n",
        "import random\n",
        "import numpy as np\n",
        "import pandas as pd\n",
        "from tqdm import tqdm_notebook as tqdm\n",
        "from torch.optim.lr_scheduler import ReduceLROnPlateau\n",
        "from sklearn.model_selection import train_test_split\n",
        "import torch\n",
        "import torch.nn as nn\n",
        "from torch.nn import functional as F\n",
        "import torch.optim as optim\n",
        "import torch.backends.cudnn as cudnn\n",
        "from torch.utils.data import DataLoader, Dataset, sampler\n",
        "from matplotlib import pyplot as plt\n",
        "from albumentations import (HorizontalFlip, ShiftScaleRotate, Normalize, Resize, Compose, GaussNoise)\n",
        "from albumentations.pytorch import ToTensor\n",
        "warnings.filterwarnings(\"ignore\")\n",
        "seed = 69\n",
        "random.seed(seed)\n",
        "os.environ[\"PYTHONHASHSEED\"] = str(seed)\n",
        "np.random.seed(seed)\n",
        "torch.cuda.manual_seed(seed)\n",
        "torch.backends.cudnn.deterministic = True"
      ]
    },
    {
      "cell_type": "markdown",
      "metadata": {
        "id": "mKMYGeI_eyrp"
      },
      "source": [
        "## RLE-Mask utility functions"
      ]
    },
    {
      "cell_type": "code",
      "execution_count": null,
      "metadata": {
        "id": "n2dQ4ApJeyrq"
      },
      "outputs": [],
      "source": [
        "#https://www.kaggle.com/paulorzp/rle-functions-run-lenght-encode-decode\n",
        "def mask2rle(img):\n",
        "    '''\n",
        "    img: numpy array, 1 -> mask, 0 -> background\n",
        "    Returns run length as string formated\n",
        "    '''\n",
        "    pixels= img.T.flatten()\n",
        "    pixels = np.concatenate([[0], pixels, [0]])\n",
        "    runs = np.where(pixels[1:] != pixels[:-1])[0] + 1\n",
        "    runs[1::2] -= runs[::2]\n",
        "    return ' '.join(str(x) for x in runs)\n",
        "\n",
        "def make_mask(row_id, df):\n",
        "    '''Given a row index, return image_id and mask (256, 1600, 4) from the dataframe `df`'''\n",
        "    fname = df.iloc[row_id].name\n",
        "    labels = df.iloc[row_id][:4]\n",
        "    masks = np.zeros((256, 1600, 4), dtype=np.float32) # float32 is V.Imp\n",
        "    # 4:class 1～4 (ch:0～3)\n",
        "\n",
        "    for idx, label in enumerate(labels.values):\n",
        "        if label is not np.nan:\n",
        "            label = label.split(\" \")\n",
        "            positions = map(int, label[0::2])\n",
        "            length = map(int, label[1::2])\n",
        "            mask = np.zeros(256 * 1600, dtype=np.uint8)\n",
        "            for pos, le in zip(positions, length):\n",
        "                mask[pos:(pos + le)] = 1\n",
        "            masks[:, :, idx] = mask.reshape(256, 1600, order='F')\n",
        "    return fname, masks"
      ]
    },
    {
      "cell_type": "markdown",
      "metadata": {
        "id": "g83pE_uWeyrr"
      },
      "source": [
        "## Dataloader"
      ]
    },
    {
      "cell_type": "code",
      "execution_count": null,
      "metadata": {
        "id": "1eeEKF2Eeyrr"
      },
      "outputs": [],
      "source": [
        "class SteelDataset(Dataset):\n",
        "    def __init__(self, df, data_folder, mean, std, phase):\n",
        "        self.df = df\n",
        "        self.root = data_folder\n",
        "        self.mean = mean\n",
        "        self.std = std\n",
        "        self.phase = phase\n",
        "        self.transforms = get_transforms(phase, mean, std)\n",
        "        self.fnames = self.df.index.tolist()\n",
        "\n",
        "    def __getitem__(self, idx):\n",
        "        image_id, mask = make_mask(idx, self.df)\n",
        "        image_path = os.path.join(self.root, \"train_images\",  image_id)\n",
        "        img = cv2.imread(image_path)\n",
        "        augmented = self.transforms(image=img, mask=mask)\n",
        "        img = augmented['image']\n",
        "        mask = augmented['mask'] # 1x256x1600x4\n",
        "        mask = mask[0].permute(2, 0, 1) # 4x256x1600\n",
        "        return img, mask\n",
        "\n",
        "    def __len__(self):\n",
        "        return len(self.fnames)\n",
        "\n",
        "\n",
        "def get_transforms(phase, mean, std):\n",
        "    list_transforms = []\n",
        "    if phase == \"train\":\n",
        "        list_transforms.extend(\n",
        "            [\n",
        "                HorizontalFlip(p=0.5), # only horizontal flip as of now\n",
        "            ]\n",
        "        )\n",
        "    list_transforms.extend(\n",
        "        [\n",
        "            Normalize(mean=mean, std=std, p=1),\n",
        "            ToTensor(),\n",
        "        ]\n",
        "    )\n",
        "    list_trfms = Compose(list_transforms)\n",
        "    return list_trfms\n",
        "\n",
        "def provider(\n",
        "    data_folder,\n",
        "    df_path,\n",
        "    phase,\n",
        "    mean=None,\n",
        "    std=None,\n",
        "    batch_size=8,\n",
        "    num_workers=4,\n",
        "):\n",
        "    '''Returns dataloader for the model training'''\n",
        "    df = pd.read_csv(df_path)\n",
        "    # https://www.kaggle.com/amanooo/defect-detection-starter-u-net\n",
        "    df['ImageId'], df['ClassId'] = zip(*df['ImageId_ClassId'].str.split('_'))\n",
        "    df['ClassId'] = df['ClassId'].astype(int)\n",
        "    df = df.pivot(index='ImageId',columns='ClassId',values='EncodedPixels')\n",
        "    df['defects'] = df.count(axis=1)\n",
        "    \n",
        "    train_df, val_df = train_test_split(df, test_size=0.2, stratify=df[\"defects\"], random_state=69)\n",
        "    df = train_df if phase == \"train\" else val_df\n",
        "    image_dataset = SteelDataset(df, data_folder, mean, std, phase)\n",
        "    dataloader = DataLoader(\n",
        "        image_dataset,\n",
        "        batch_size=batch_size,\n",
        "        num_workers=num_workers,\n",
        "        pin_memory=True,\n",
        "        shuffle=True,   \n",
        "    )\n",
        "\n",
        "    return dataloader\n"
      ]
    },
    {
      "cell_type": "markdown",
      "metadata": {
        "id": "rxvJ4P28eyrs"
      },
      "source": [
        "## Some more utility functions\n",
        "\n",
        "Dice and IoU metric implementations, metric logger for training and validation."
      ]
    },
    {
      "cell_type": "code",
      "execution_count": null,
      "metadata": {
        "id": "yj0of-creyrs"
      },
      "outputs": [],
      "source": [
        "def predict(X, threshold):\n",
        "    '''X is sigmoid output of the model'''\n",
        "    X_p = np.copy(X)\n",
        "    preds = (X_p > threshold).astype('uint8')\n",
        "    return preds\n",
        "\n",
        "def metric(probability, truth, threshold=0.5, reduction='none'):\n",
        "    '''Calculates dice of positive and negative images seperately'''\n",
        "    '''probability and truth must be torch tensors'''\n",
        "    batch_size = len(truth)\n",
        "    with torch.no_grad():\n",
        "        probability = probability.view(batch_size, -1)\n",
        "        truth = truth.view(batch_size, -1)\n",
        "        assert(probability.shape == truth.shape)\n",
        "\n",
        "        p = (probability > threshold).float()\n",
        "        t = (truth > 0.5).float()\n",
        "\n",
        "        t_sum = t.sum(-1)\n",
        "        p_sum = p.sum(-1)\n",
        "        neg_index = torch.nonzero(t_sum == 0)\n",
        "        pos_index = torch.nonzero(t_sum >= 1)\n",
        "\n",
        "        dice_neg = (p_sum == 0).float()\n",
        "        dice_pos = 2 * (p*t).sum(-1)/((p+t).sum(-1))\n",
        "\n",
        "        dice_neg = dice_neg[neg_index]\n",
        "        dice_pos = dice_pos[pos_index]\n",
        "        dice = torch.cat([dice_pos, dice_neg])\n",
        "\n",
        "#         dice_neg = np.nan_to_num(dice_neg.mean().item(), 0)\n",
        "#         dice_pos = np.nan_to_num(dice_pos.mean().item(), 0)\n",
        "#         dice = dice.mean().item()\n",
        "\n",
        "        num_neg = len(neg_index)\n",
        "        num_pos = len(pos_index)\n",
        "\n",
        "    return dice, dice_neg, dice_pos, num_neg, num_pos\n",
        "\n",
        "class Meter:\n",
        "    '''A meter to keep track of iou and dice scores throughout an epoch'''\n",
        "    def __init__(self, phase, epoch):\n",
        "        self.base_threshold = 0.5 # <<<<<<<<<<< here's the threshold\n",
        "        self.base_dice_scores = []\n",
        "        self.dice_neg_scores = []\n",
        "        self.dice_pos_scores = []\n",
        "        self.iou_scores = []\n",
        "\n",
        "    def update(self, targets, outputs):\n",
        "        probs = torch.sigmoid(outputs)\n",
        "        dice, dice_neg, dice_pos, _, _ = metric(probs, targets, self.base_threshold)\n",
        "        self.base_dice_scores.extend(dice.tolist())\n",
        "        self.dice_pos_scores.extend(dice_pos.tolist())\n",
        "        self.dice_neg_scores.extend(dice_neg.tolist())\n",
        "        preds = predict(probs, self.base_threshold)\n",
        "        iou = compute_iou_batch(preds, targets, classes=[1])\n",
        "        self.iou_scores.append(iou)\n",
        "\n",
        "    def get_metrics(self):\n",
        "        dice = np.nanmean(self.base_dice_scores)\n",
        "        dice_neg = np.nanmean(self.dice_neg_scores)\n",
        "        dice_pos = np.nanmean(self.dice_pos_scores)\n",
        "        dices = [dice, dice_neg, dice_pos]\n",
        "        iou = np.nanmean(self.iou_scores)\n",
        "        return dices, iou\n",
        "\n",
        "def epoch_log(phase, epoch, epoch_loss, meter, start):\n",
        "    '''logging the metrics at the end of an epoch'''\n",
        "    dices, iou = meter.get_metrics()\n",
        "    dice, dice_neg, dice_pos = dices\n",
        "    print(\"Loss: %0.4f | IoU: %0.4f | dice: %0.4f | dice_neg: %0.4f | dice_pos: %0.4f\" % (epoch_loss, iou, dice, dice_neg, dice_pos))\n",
        "    return dice, iou\n",
        "\n",
        "def compute_ious(pred, label, classes, ignore_index=255, only_present=True):\n",
        "    '''computes iou for one ground truth mask and predicted mask'''\n",
        "    pred[label == ignore_index] = 0\n",
        "    ious = []\n",
        "    for c in classes:\n",
        "        label_c = label == c\n",
        "        if only_present and np.sum(label_c) == 0:\n",
        "            ious.append(np.nan)\n",
        "            continue\n",
        "        pred_c = pred == c\n",
        "        intersection = np.logical_and(pred_c, label_c).sum()\n",
        "        union = np.logical_or(pred_c, label_c).sum()\n",
        "        if union != 0:\n",
        "            ious.append(intersection / union)\n",
        "    return ious if ious else [1]\n",
        "\n",
        "def compute_iou_batch(outputs, labels, classes=None):\n",
        "    '''computes mean iou for a batch of ground truth masks and predicted masks'''\n",
        "    ious = []\n",
        "    preds = np.copy(outputs) # copy is imp\n",
        "    labels = np.array(labels) # tensor to np\n",
        "    for pred, label in zip(preds, labels):\n",
        "        ious.append(np.nanmean(compute_ious(pred, label, classes)))\n",
        "    iou = np.nanmean(ious)\n",
        "    return iou\n"
      ]
    },
    {
      "cell_type": "markdown",
      "metadata": {
        "id": "XU03v7Mceyrt"
      },
      "source": [
        "## Model Initialization"
      ]
    },
    {
      "cell_type": "code",
      "execution_count": null,
      "metadata": {
        "id": "1_dl5FYjeyrt"
      },
      "outputs": [],
      "source": [
        "!mkdir -p /tmp/.cache/torch/checkpoints/\n",
        "!cp ../input/resnet18/resnet18.pth /tmp/.cache/torch/checkpoints/resnet18-5c106cde.pth"
      ]
    },
    {
      "cell_type": "code",
      "execution_count": null,
      "metadata": {
        "id": "J6fLCY86eyrt"
      },
      "outputs": [],
      "source": [
        "model = Unet(\"resnet18\", encoder_weights=\"imagenet\", classes=4, activation=None)"
      ]
    },
    {
      "cell_type": "code",
      "execution_count": null,
      "metadata": {
        "id": "-FJ3g2Rneyru"
      },
      "outputs": [],
      "source": [
        "# model # uncomment to take a deeper look"
      ]
    },
    {
      "cell_type": "markdown",
      "metadata": {
        "id": "EWEPoGo3eyru"
      },
      "source": [
        "### Training and Validation"
      ]
    },
    {
      "cell_type": "code",
      "execution_count": null,
      "metadata": {
        "id": "U-NWecEEeyru"
      },
      "outputs": [],
      "source": [
        "class Trainer(object):\n",
        "    '''This class takes care of training and validation of our model'''\n",
        "    def __init__(self, model):\n",
        "        self.num_workers = 6\n",
        "        self.batch_size = {\"train\": 4, \"val\": 4}\n",
        "        self.accumulation_steps = 32 // self.batch_size['train']\n",
        "        self.lr = 5e-4\n",
        "        self.num_epochs = 20\n",
        "        self.best_loss = float(\"inf\")\n",
        "        self.phases = [\"train\", \"val\"]\n",
        "        self.device = torch.device(\"cuda:0\")\n",
        "        torch.set_default_tensor_type(\"torch.cuda.FloatTensor\")\n",
        "        self.net = model\n",
        "        self.criterion = torch.nn.BCEWithLogitsLoss()\n",
        "        self.optimizer = optim.Adam(self.net.parameters(), lr=self.lr)\n",
        "        self.scheduler = ReduceLROnPlateau(self.optimizer, mode=\"min\", patience=3, verbose=True)\n",
        "        self.net = self.net.to(self.device)\n",
        "        cudnn.benchmark = True\n",
        "        self.dataloaders = {\n",
        "            phase: provider(\n",
        "                data_folder=data_folder,\n",
        "                df_path=train_df_path,\n",
        "                phase=phase,\n",
        "                mean=(0.485, 0.456, 0.406),\n",
        "                std=(0.229, 0.224, 0.225),\n",
        "                batch_size=self.batch_size[phase],\n",
        "                num_workers=self.num_workers,\n",
        "            )\n",
        "            for phase in self.phases\n",
        "        }\n",
        "        self.losses = {phase: [] for phase in self.phases}\n",
        "        self.iou_scores = {phase: [] for phase in self.phases}\n",
        "        self.dice_scores = {phase: [] for phase in self.phases}\n",
        "        \n",
        "    def forward(self, images, targets):\n",
        "        images = images.to(self.device)\n",
        "        masks = targets.to(self.device)\n",
        "        outputs = self.net(images)\n",
        "        loss = self.criterion(outputs, masks)\n",
        "        return loss, outputs\n",
        "\n",
        "    def iterate(self, epoch, phase):\n",
        "        meter = Meter(phase, epoch)\n",
        "        start = time.strftime(\"%H:%M:%S\")\n",
        "        print(f\"Starting epoch: {epoch} | phase: {phase} | ⏰: {start}\")\n",
        "        batch_size = self.batch_size[phase]\n",
        "        self.net.train(phase == \"train\")\n",
        "        dataloader = self.dataloaders[phase]\n",
        "        running_loss = 0.0\n",
        "        total_batches = len(dataloader)\n",
        "#         tk0 = tqdm(dataloader, total=total_batches)\n",
        "        self.optimizer.zero_grad()\n",
        "        for itr, batch in enumerate(dataloader): # replace `dataloader` with `tk0` for tqdm\n",
        "            images, targets = batch\n",
        "            loss, outputs = self.forward(images, targets)\n",
        "            loss = loss / self.accumulation_steps\n",
        "            if phase == \"train\":\n",
        "                loss.backward()\n",
        "                if (itr + 1 ) % self.accumulation_steps == 0:\n",
        "                    self.optimizer.step()\n",
        "                    self.optimizer.zero_grad()\n",
        "            running_loss += loss.item()\n",
        "            outputs = outputs.detach().cpu()\n",
        "            meter.update(targets, outputs)\n",
        "#             tk0.set_postfix(loss=(running_loss / ((itr + 1))))\n",
        "        epoch_loss = (running_loss * self.accumulation_steps) / total_batches\n",
        "        dice, iou = epoch_log(phase, epoch, epoch_loss, meter, start)\n",
        "        self.losses[phase].append(epoch_loss)\n",
        "        self.dice_scores[phase].append(dice)\n",
        "        self.iou_scores[phase].append(iou)\n",
        "        torch.cuda.empty_cache()\n",
        "        return epoch_loss\n",
        "\n",
        "    def start(self):\n",
        "        for epoch in range(self.num_epochs):\n",
        "            self.iterate(epoch, \"train\")\n",
        "            state = {\n",
        "                \"epoch\": epoch,\n",
        "                \"best_loss\": self.best_loss,\n",
        "                \"state_dict\": self.net.state_dict(),\n",
        "                \"optimizer\": self.optimizer.state_dict(),\n",
        "            }\n",
        "            with torch.no_grad():\n",
        "                val_loss = self.iterate(epoch, \"val\")\n",
        "                self.scheduler.step(val_loss)\n",
        "            if val_loss < self.best_loss:\n",
        "                print(\"******** New optimal found, saving state ********\")\n",
        "                state[\"best_loss\"] = self.best_loss = val_loss\n",
        "                torch.save(state, \"./model.pth\")\n",
        "            print()\n"
      ]
    },
    {
      "cell_type": "code",
      "execution_count": null,
      "metadata": {
        "id": "OG1-Ljc_eyr0",
        "outputId": "36a30838-bd48-415e-f463-3982181c61b9"
      },
      "outputs": [
        {
          "name": "stdout",
          "output_type": "stream",
          "text": [
            "Starting epoch: 0 | phase: train | ⏰: 17:26:06\n",
            "Loss: 0.1040 | IoU: 0.0173 | dice: 0.1416 | dice_neg: 0.2735 | dice_pos: 0.0248\n",
            "Starting epoch: 0 | phase: val | ⏰: 17:41:47\n",
            "Loss: 0.0540 | IoU: 0.0450 | dice: 0.4319 | dice_neg: 0.8340 | dice_pos: 0.0756\n",
            "******** New optimal found, saving state ********\n",
            "\n",
            "Starting epoch: 1 | phase: train | ⏰: 17:44:28\n",
            "Loss: 0.0414 | IoU: 0.2404 | dice: 0.4466 | dice_neg: 0.5906 | dice_pos: 0.3192\n",
            "Starting epoch: 1 | phase: val | ⏰: 17:59:29\n",
            "Loss: 0.0293 | IoU: 0.2760 | dice: 0.5020 | dice_neg: 0.6452 | dice_pos: 0.3751\n",
            "******** New optimal found, saving state ********\n",
            "\n",
            "Starting epoch: 2 | phase: train | ⏰: 18:02:07\n",
            "Loss: 0.0261 | IoU: 0.3249 | dice: 0.5610 | dice_neg: 0.7198 | dice_pos: 0.4204\n",
            "Starting epoch: 2 | phase: val | ⏰: 18:17:08\n",
            "Loss: 0.0206 | IoU: 0.3313 | dice: 0.5582 | dice_neg: 0.7113 | dice_pos: 0.4225\n",
            "******** New optimal found, saving state ********\n",
            "\n",
            "Starting epoch: 3 | phase: train | ⏰: 18:19:49\n",
            "Loss: 0.0208 | IoU: 0.3492 | dice: 0.5910 | dice_neg: 0.7505 | dice_pos: 0.4498\n",
            "Starting epoch: 3 | phase: val | ⏰: 18:34:49\n",
            "Loss: 0.0175 | IoU: 0.3505 | dice: 0.5612 | dice_neg: 0.6901 | dice_pos: 0.4470\n",
            "******** New optimal found, saving state ********\n",
            "\n",
            "Starting epoch: 4 | phase: train | ⏰: 18:37:29\n",
            "Loss: 0.0173 | IoU: 0.3723 | dice: 0.6290 | dice_neg: 0.8013 | dice_pos: 0.4765\n",
            "Starting epoch: 4 | phase: val | ⏰: 18:52:27\n",
            "Loss: 0.0157 | IoU: 0.3934 | dice: 0.6424 | dice_neg: 0.8112 | dice_pos: 0.4929\n",
            "******** New optimal found, saving state ********\n",
            "\n",
            "Starting epoch: 5 | phase: train | ⏰: 18:55:06\n",
            "Loss: 0.0154 | IoU: 0.3907 | dice: 0.6466 | dice_neg: 0.8189 | dice_pos: 0.4941\n",
            "Starting epoch: 5 | phase: val | ⏰: 19:10:03\n",
            "Loss: 0.0141 | IoU: 0.3878 | dice: 0.6781 | dice_neg: 0.8925 | dice_pos: 0.4882\n",
            "******** New optimal found, saving state ********\n",
            "\n",
            "Starting epoch: 6 | phase: train | ⏰: 19:12:42\n",
            "Loss: 0.0145 | IoU: 0.3995 | dice: 0.6539 | dice_neg: 0.8291 | dice_pos: 0.4989\n",
            "Starting epoch: 6 | phase: val | ⏰: 19:27:44\n",
            "Loss: 0.0149 | IoU: 0.3612 | dice: 0.6498 | dice_neg: 0.8611 | dice_pos: 0.4626\n",
            "\n",
            "Starting epoch: 7 | phase: train | ⏰: 19:30:24\n",
            "Loss: 0.0133 | IoU: 0.4053 | dice: 0.6644 | dice_neg: 0.8352 | dice_pos: 0.5132\n",
            "Starting epoch: 7 | phase: val | ⏰: 19:45:28\n",
            "Loss: 0.0157 | IoU: 0.3477 | dice: 0.6564 | dice_neg: 0.8831 | dice_pos: 0.4555\n",
            "\n",
            "Starting epoch: 8 | phase: train | ⏰: 19:48:07\n",
            "Loss: 0.0125 | IoU: 0.4285 | dice: 0.6793 | dice_neg: 0.8469 | dice_pos: 0.5309\n",
            "Starting epoch: 8 | phase: val | ⏰: 20:03:08\n",
            "Loss: 0.0158 | IoU: 0.3186 | dice: 0.6652 | dice_neg: 0.9577 | dice_pos: 0.4060\n",
            "\n",
            "Starting epoch: 9 | phase: train | ⏰: 20:05:47\n",
            "Loss: 0.0117 | IoU: 0.4403 | dice: 0.6942 | dice_neg: 0.8655 | dice_pos: 0.5426\n",
            "Starting epoch: 9 | phase: val | ⏰: 20:20:46\n",
            "Loss: 0.0137 | IoU: 0.4262 | dice: 0.6672 | dice_neg: 0.8120 | dice_pos: 0.5388\n",
            "******** New optimal found, saving state ********\n",
            "\n",
            "Starting epoch: 10 | phase: train | ⏰: 20:23:25\n",
            "Loss: 0.0116 | IoU: 0.4386 | dice: 0.6935 | dice_neg: 0.8598 | dice_pos: 0.5463\n",
            "Starting epoch: 10 | phase: val | ⏰: 20:38:23\n",
            "Loss: 0.0122 | IoU: 0.4504 | dice: 0.6717 | dice_neg: 0.7934 | dice_pos: 0.5639\n",
            "******** New optimal found, saving state ********\n",
            "\n",
            "Starting epoch: 11 | phase: train | ⏰: 20:41:02\n",
            "Loss: 0.0109 | IoU: 0.4786 | dice: 0.7134 | dice_neg: 0.8545 | dice_pos: 0.5886\n",
            "Starting epoch: 11 | phase: val | ⏰: 20:56:01\n",
            "Loss: 0.0129 | IoU: 0.4338 | dice: 0.6872 | dice_neg: 0.8501 | dice_pos: 0.5428\n",
            "\n",
            "Starting epoch: 12 | phase: train | ⏰: 20:58:39\n",
            "Loss: 0.0108 | IoU: 0.4690 | dice: 0.7084 | dice_neg: 0.8517 | dice_pos: 0.5815\n",
            "Starting epoch: 12 | phase: val | ⏰: 21:13:40\n",
            "Loss: 0.0118 | IoU: 0.4699 | dice: 0.7348 | dice_neg: 0.8950 | dice_pos: 0.5929\n",
            "******** New optimal found, saving state ********\n",
            "\n",
            "Starting epoch: 13 | phase: train | ⏰: 21:16:20\n",
            "Loss: 0.0101 | IoU: 0.4887 | dice: 0.7227 | dice_neg: 0.8560 | dice_pos: 0.6048\n",
            "Starting epoch: 13 | phase: val | ⏰: 21:31:20\n",
            "Loss: 0.0124 | IoU: 0.4657 | dice: 0.7226 | dice_neg: 0.8848 | dice_pos: 0.5789\n",
            "\n",
            "Starting epoch: 14 | phase: train | ⏰: 21:33:58\n",
            "Loss: 0.0108 | IoU: 0.4794 | dice: 0.7199 | dice_neg: 0.8621 | dice_pos: 0.5940\n",
            "Starting epoch: 14 | phase: val | ⏰: 21:49:00\n",
            "Loss: 0.0142 | IoU: 0.4334 | dice: 0.7025 | dice_neg: 0.8747 | dice_pos: 0.5499\n",
            "\n",
            "Starting epoch: 15 | phase: train | ⏰: 21:51:40\n",
            "Loss: 0.0106 | IoU: 0.4730 | dice: 0.7035 | dice_neg: 0.8348 | dice_pos: 0.5873\n",
            "Starting epoch: 15 | phase: val | ⏰: 22:06:40\n",
            "Loss: 0.0123 | IoU: 0.4532 | dice: 0.6961 | dice_neg: 0.8467 | dice_pos: 0.5626\n",
            "\n",
            "Starting epoch: 16 | phase: train | ⏰: 22:09:19\n",
            "Loss: 0.0095 | IoU: 0.5119 | dice: 0.7373 | dice_neg: 0.8608 | dice_pos: 0.6279\n",
            "Starting epoch: 16 | phase: val | ⏰: 22:24:20\n",
            "Loss: 0.0145 | IoU: 0.4538 | dice: 0.7098 | dice_neg: 0.8637 | dice_pos: 0.5734\n",
            "Epoch    16: reducing learning rate of group 0 to 5.0000e-05.\n",
            "\n",
            "Starting epoch: 17 | phase: train | ⏰: 22:26:59\n",
            "Loss: 0.0080 | IoU: 0.5578 | dice: 0.7775 | dice_neg: 0.8918 | dice_pos: 0.6764\n",
            "Starting epoch: 17 | phase: val | ⏰: 22:41:59\n",
            "Loss: 0.0129 | IoU: 0.4792 | dice: 0.7492 | dice_neg: 0.9196 | dice_pos: 0.5983\n",
            "\n",
            "Starting epoch: 18 | phase: train | ⏰: 22:44:37\n",
            "Loss: 0.0076 | IoU: 0.5710 | dice: 0.7896 | dice_neg: 0.9072 | dice_pos: 0.6855\n",
            "Starting epoch: 18 | phase: val | ⏰: 22:59:36\n",
            "Loss: 0.0118 | IoU: 0.4961 | dice: 0.7506 | dice_neg: 0.9018 | dice_pos: 0.6167\n",
            "******** New optimal found, saving state ********\n",
            "\n",
            "Starting epoch: 19 | phase: train | ⏰: 23:02:15\n",
            "Loss: 0.0074 | IoU: 0.5743 | dice: 0.7935 | dice_neg: 0.9102 | dice_pos: 0.6903\n",
            "Starting epoch: 19 | phase: val | ⏰: 23:17:12\n",
            "Loss: 0.0135 | IoU: 0.4844 | dice: 0.7534 | dice_neg: 0.9170 | dice_pos: 0.6083\n",
            "\n"
          ]
        }
      ],
      "source": [
        "model_trainer = Trainer(model)\n",
        "model_trainer.start()"
      ]
    },
    {
      "cell_type": "code",
      "execution_count": null,
      "metadata": {
        "id": "jjVxCP0Teyr1",
        "outputId": "03e452e4-f5fc-4e88-ae34-3160a8b6d8bf"
      },
      "outputs": [
        {
          "data": {
            "image/png": "[encoded data removed]",
            "text/plain": [
              "<Figure size 1080x360 with 1 Axes>"
            ]
          },
          "metadata": {
            "needs_background": "light"
          },
          "output_type": "display_data"
        },
        {
          "data": {
            "image/png": "[encoded data removed]",
            "text/plain": [
              "<Figure size 1080x360 with 1 Axes>"
            ]
          },
          "metadata": {
            "needs_background": "light"
          },
          "output_type": "display_data"
        },
        {
          "data": {
            "image/png": "[encoded data removed]",
            "text/plain": [
              "<Figure size 1080x360 with 1 Axes>"
            ]
          },
          "metadata": {
            "needs_background": "light"
          },
          "output_type": "display_data"
        }
      ],
      "source": [
        "# PLOT TRAINING\n",
        "losses = model_trainer.losses\n",
        "dice_scores = model_trainer.dice_scores # overall dice\n",
        "iou_scores = model_trainer.iou_scores\n",
        "\n",
        "def plot(scores, name):\n",
        "    plt.figure(figsize=(15,5))\n",
        "    plt.plot(range(len(scores[\"train\"])), scores[\"train\"], label=f'train {name}')\n",
        "    plt.plot(range(len(scores[\"train\"])), scores[\"val\"], label=f'val {name}')\n",
        "    plt.title(f'{name} plot'); plt.xlabel('Epoch'); plt.ylabel(f'{name}');\n",
        "    plt.legend(); \n",
        "    plt.show()\n",
        "\n",
        "plot(losses, \"BCE loss\")\n",
        "plot(dice_scores, \"Dice score\")\n",
        "plot(iou_scores, \"IoU score\")"
      ]
    },
    {
      "cell_type": "markdown",
      "metadata": {
        "id": "42UcxObteyr2"
      },
      "source": [
        "## Test prediction and submission"
      ]
    },
    {
      "cell_type": "markdown",
      "metadata": {
        "id": "O0HVf-Tgeyr2"
      },
      "source": [
        "This training and validation takes about ~400 minutes which exceeds Kaggle's GPU usage limit of 60 minutes, we won't be able to submit the `submission.csv` file generated from this kernel. So, for test prediction and submission I've written a separate [UNet inference kernel](https://www.kaggle.com/rishabhiitbhu/unet-pytorch-inference-kernel), make sure you add the `model.pth` file generated from this kernel as dataset to test inference kernel."
      ]
    },
    {
      "cell_type": "markdown",
      "metadata": {
        "id": "hRTX_U9Xeyr2"
      },
      "source": [
        "I've used resnet-18 architecture in this kernel. It scores ~0.89 on LB. Try to play around with other architectures of `segmenation_models.pytorch` and see what works best for you, let me know in the comments :) and do upvote if you liked this kernel, I need some medals too."
      ]
    },
    {
      "cell_type": "markdown",
      "metadata": {
        "id": "rO4Xb7TOeyr2"
      },
      "source": [
        "## Refrences:\n",
        "\n",
        "Few kernels from which I've borrowed some cod[](http://)e:\n",
        "\n",
        "* https://www.kaggle.com/amanooo/defect-detection-starter-u-net\n",
        "* https://www.kaggle.com/go1dfish/clear-mask-visualization-and-simple-eda\n",
        "\n",
        "A big thank you to all those who share their code on Kaggle, I'm nobody without you guys. I've learnt a lot from fellow kagglers, special shout-out to [@Abhishek](https://www.kaggle.com/abhishek), [@Yury](https://www.kaggle.com/deyury), [@Heng](https://www.kaggle.com/hengck23), [@Ekhtiar](https://www.kaggle.com/ekhtiar), [@lafoss](https://www.kaggle.com/iafoss), [@Siddhartha](https://www.kaggle.com/meaninglesslives), [@xhulu](https://www.kaggle.com/xhlulu), and the list goes on.."
      ]
    }
  ],
  "metadata": {
    "kernelspec": {
      "display_name": "Python 3",
      "language": "python",
      "name": "python3"
    },
    "language_info": {
      "codemirror_mode": {
        "name": "ipython",
        "version": 3
      },
      "file_extension": ".py",
      "mimetype": "text/x-python",
      "name": "python",
      "nbconvert_exporter": "python",
      "pygments_lexer": "ipython3",
      "version": "3.6.6"
    },
    "colab": {
      "name": "UNet starter kernel (Pytorch).ipynb",
      "provenance": [],
      "include_colab_link": true
    }
  },
  "nbformat": 4,
  "nbformat_minor": 0
}