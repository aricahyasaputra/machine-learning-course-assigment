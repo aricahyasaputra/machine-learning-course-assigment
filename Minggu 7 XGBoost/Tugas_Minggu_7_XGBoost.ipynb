{
  "nbformat": 4,
  "nbformat_minor": 0,
  "metadata": {
    "colab": {
      "name": "Tugas Minggu 7 XGBoost.ipynb",
      "provenance": [],
      "collapsed_sections": [
        "ff_3Xf-ZIXE6"
      ],
      "include_colab_link": true
    },
    "kernelspec": {
      "name": "python3",
      "display_name": "Python 3"
    },
    "language_info": {
      "name": "python"
    }
  },
  "cells": [
    {
      "cell_type": "markdown",
      "metadata": {
        "id": "view-in-github",
        "colab_type": "text"
      },
      "source": [
        "<a href=\"https://colab.research.google.com/github/aricahyasaputra/machine-learning-course-assigment/blob/main/Minggu%207%20XGBoost/Tugas_Minggu_7_XGBoost.ipynb\" target=\"_parent\"><img src=\"https://colab.research.google.com/assets/colab-badge.svg\" alt=\"Open In Colab\"/></a>"
      ]
    },
    {
      "cell_type": "markdown",
      "source": [
        "\n",
        "\n",
        "Nama : Ari Cahya Saputra\n",
        "\n",
        "NIM : 1103190093\n",
        "\n",
        "Kelas : TK-42-PIL1\n"
      ],
      "metadata": {
        "id": "tOU7rKjfDpbp"
      }
    },
    {
      "cell_type": "markdown",
      "source": [
        "#NYCT - from A to Z with XGBoost (Tutorial)"
      ],
      "metadata": {
        "id": "6JfefLC4EHXc"
      }
    },
    {
      "cell_type": "markdown",
      "source": [
        "Karena batas file upload github hanya 25MB maka saya uplolad data set nya di drive saya dengan link berikut https://drive.google.com/drive/folders/16JyiPsCs2fcIqfK-DZn3wZciUG6vpxzS?usp=sharing"
      ],
      "metadata": {
        "id": "QCLtXTUKGjVQ"
      }
    },
    {
      "cell_type": "markdown",
      "source": [
        "[Reference](https://www.kaggle.com/code/karelrv/nyct-from-a-to-z-with-xgboost-tutorial/notebook)"
      ],
      "metadata": {
        "id": "B3PHaimJDrPI"
      }
    },
    {
      "cell_type": "markdown",
      "source": [
        "### The Libraries and Function"
      ],
      "metadata": {
        "id": "gHL-rAeVvJOl"
      }
    },
    {
      "cell_type": "code",
      "execution_count": null,
      "metadata": {
        "id": "Uvgu_2eb63Su"
      },
      "outputs": [],
      "source": [
        "%matplotlib inline\n",
        "import pandas as pd\n",
        "from datetime import datetime\n",
        "import pandas as pd\n",
        "from sklearn.model_selection import train_test_split\n",
        "import xgboost as xgb\n",
        "from sklearn.linear_model import LinearRegression, Ridge,BayesianRidge\n",
        "from sklearn.cluster import MiniBatchKMeans\n",
        "from sklearn.metrics import mean_squared_error\n",
        "from math import radians, cos, sin, asin, sqrt\n",
        "import seaborn as sns\n",
        "import matplotlib\n",
        "import numpy as np\n",
        "import matplotlib.pyplot as plt\n",
        "plt.rcParams['figure.figsize'] = [16, 10]"
      ]
    },
    {
      "cell_type": "code",
      "source": [
        "# Connect google collab with google drive\n",
        "from google.colab import drive \n",
        "drive.mount ('/content/drive')"
      ],
      "metadata": {
        "colab": {
          "base_uri": "https://localhost:8080/"
        },
        "id": "eSZYHpiK702T",
        "outputId": "f951316a-7789-45c8-fcad-2f8410928c74"
      },
      "execution_count": null,
      "outputs": [
        {
          "output_type": "stream",
          "name": "stdout",
          "text": [
            "Mounted at /content/drive\n"
          ]
        }
      ]
    },
    {
      "cell_type": "code",
      "source": [
        "# Loading data\n",
        "train = pd.read_csv('/content/drive/MyDrive/Machine Learning Course Material/Minggu 7 XGBoost/train.csv')\n",
        "test = pd.read_csv('/content/drive/MyDrive/Machine Learning Course Material/Minggu 7 XGBoost/test.csv')"
      ],
      "metadata": {
        "id": "zT1ttC8q-Hjs"
      },
      "execution_count": null,
      "outputs": []
    },
    {
      "cell_type": "markdown",
      "source": [
        "### File Structure"
      ],
      "metadata": {
        "id": "OrVIJcR9-r32"
      }
    },
    {
      "cell_type": "code",
      "source": [
        "pd.set_option('display.float_format', lambda x: '%.3f' % x) # customize some aspects of its behavior, display-related options\n",
        "train.head() # head here only displays the top 5 data"
      ],
      "metadata": {
        "colab": {
          "base_uri": "https://localhost:8080/",
          "height": 206
        },
        "id": "nczqHEEB-uTz",
        "outputId": "5adc25a7-9015-4d46-ae6e-3399d0cd7523"
      },
      "execution_count": null,
      "outputs": [
        {
          "output_type": "execute_result",
          "data": {
            "text/plain": [
              "          id  vendor_id      pickup_datetime     dropoff_datetime  \\\n",
              "0  id2875421          2  2016-03-14 17:24:55  2016-03-14 17:32:30   \n",
              "1  id2377394          1  2016-06-12 00:43:35  2016-06-12 00:54:38   \n",
              "2  id3858529          2  2016-01-19 11:35:24  2016-01-19 12:10:48   \n",
              "3  id3504673          2  2016-04-06 19:32:31  2016-04-06 19:39:40   \n",
              "4  id2181028          2  2016-03-26 13:30:55  2016-03-26 13:38:10   \n",
              "\n",
              "   passenger_count  pickup_longitude  pickup_latitude  dropoff_longitude  \\\n",
              "0                1           -73.982           40.768            -73.965   \n",
              "1                1           -73.980           40.739            -73.999   \n",
              "2                1           -73.979           40.764            -74.005   \n",
              "3                1           -74.010           40.720            -74.012   \n",
              "4                1           -73.973           40.793            -73.973   \n",
              "\n",
              "   dropoff_latitude store_and_fwd_flag  trip_duration  \n",
              "0            40.766                  N            455  \n",
              "1            40.731                  N            663  \n",
              "2            40.710                  N           2124  \n",
              "3            40.707                  N            429  \n",
              "4            40.783                  N            435  "
            ],
            "text/html": [
              "\n",
              "  <div id=\"df-442ea701-2c7c-4716-894b-9cebf97b9fb4\">\n",
              "    <div class=\"colab-df-container\">\n",
              "      <div>\n",
              "<style scoped>\n",
              "    .dataframe tbody tr th:only-of-type {\n",
              "        vertical-align: middle;\n",
              "    }\n",
              "\n",
              "    .dataframe tbody tr th {\n",
              "        vertical-align: top;\n",
              "    }\n",
              "\n",
              "    .dataframe thead th {\n",
              "        text-align: right;\n",
              "    }\n",
              "</style>\n",
              "<table border=\"1\" class=\"dataframe\">\n",
              "  <thead>\n",
              "    <tr style=\"text-align: right;\">\n",
              "      <th></th>\n",
              "      <th>id</th>\n",
              "      <th>vendor_id</th>\n",
              "      <th>pickup_datetime</th>\n",
              "      <th>dropoff_datetime</th>\n",
              "      <th>passenger_count</th>\n",
              "      <th>pickup_longitude</th>\n",
              "      <th>pickup_latitude</th>\n",
              "      <th>dropoff_longitude</th>\n",
              "      <th>dropoff_latitude</th>\n",
              "      <th>store_and_fwd_flag</th>\n",
              "      <th>trip_duration</th>\n",
              "    </tr>\n",
              "  </thead>\n",
              "  <tbody>\n",
              "    <tr>\n",
              "      <th>0</th>\n",
              "      <td>id2875421</td>\n",
              "      <td>2</td>\n",
              "      <td>2016-03-14 17:24:55</td>\n",
              "      <td>2016-03-14 17:32:30</td>\n",
              "      <td>1</td>\n",
              "      <td>-73.982</td>\n",
              "      <td>40.768</td>\n",
              "      <td>-73.965</td>\n",
              "      <td>40.766</td>\n",
              "      <td>N</td>\n",
              "      <td>455</td>\n",
              "    </tr>\n",
              "    <tr>\n",
              "      <th>1</th>\n",
              "      <td>id2377394</td>\n",
              "      <td>1</td>\n",
              "      <td>2016-06-12 00:43:35</td>\n",
              "      <td>2016-06-12 00:54:38</td>\n",
              "      <td>1</td>\n",
              "      <td>-73.980</td>\n",
              "      <td>40.739</td>\n",
              "      <td>-73.999</td>\n",
              "      <td>40.731</td>\n",
              "      <td>N</td>\n",
              "      <td>663</td>\n",
              "    </tr>\n",
              "    <tr>\n",
              "      <th>2</th>\n",
              "      <td>id3858529</td>\n",
              "      <td>2</td>\n",
              "      <td>2016-01-19 11:35:24</td>\n",
              "      <td>2016-01-19 12:10:48</td>\n",
              "      <td>1</td>\n",
              "      <td>-73.979</td>\n",
              "      <td>40.764</td>\n",
              "      <td>-74.005</td>\n",
              "      <td>40.710</td>\n",
              "      <td>N</td>\n",
              "      <td>2124</td>\n",
              "    </tr>\n",
              "    <tr>\n",
              "      <th>3</th>\n",
              "      <td>id3504673</td>\n",
              "      <td>2</td>\n",
              "      <td>2016-04-06 19:32:31</td>\n",
              "      <td>2016-04-06 19:39:40</td>\n",
              "      <td>1</td>\n",
              "      <td>-74.010</td>\n",
              "      <td>40.720</td>\n",
              "      <td>-74.012</td>\n",
              "      <td>40.707</td>\n",
              "      <td>N</td>\n",
              "      <td>429</td>\n",
              "    </tr>\n",
              "    <tr>\n",
              "      <th>4</th>\n",
              "      <td>id2181028</td>\n",
              "      <td>2</td>\n",
              "      <td>2016-03-26 13:30:55</td>\n",
              "      <td>2016-03-26 13:38:10</td>\n",
              "      <td>1</td>\n",
              "      <td>-73.973</td>\n",
              "      <td>40.793</td>\n",
              "      <td>-73.973</td>\n",
              "      <td>40.783</td>\n",
              "      <td>N</td>\n",
              "      <td>435</td>\n",
              "    </tr>\n",
              "  </tbody>\n",
              "</table>\n",
              "</div>\n",
              "      <button class=\"colab-df-convert\" onclick=\"convertToInteractive('df-442ea701-2c7c-4716-894b-9cebf97b9fb4')\"\n",
              "              title=\"Convert this dataframe to an interactive table.\"\n",
              "              style=\"display:none;\">\n",
              "        \n",
              "  <svg xmlns=\"http://www.w3.org/2000/svg\" height=\"24px\"viewBox=\"0 0 24 24\"\n",
              "       width=\"24px\">\n",
              "    <path d=\"M0 0h24v24H0V0z\" fill=\"none\"/>\n",
              "    <path d=\"M18.56 5.44l.94 2.06.94-2.06 2.06-.94-2.06-.94-.94-2.06-.94 2.06-2.06.94zm-11 1L8.5 8.5l.94-2.06 2.06-.94-2.06-.94L8.5 2.5l-.94 2.06-2.06.94zm10 10l.94 2.06.94-2.06 2.06-.94-2.06-.94-.94-2.06-.94 2.06-2.06.94z\"/><path d=\"M17.41 7.96l-1.37-1.37c-.4-.4-.92-.59-1.43-.59-.52 0-1.04.2-1.43.59L10.3 9.45l-7.72 7.72c-.78.78-.78 2.05 0 2.83L4 21.41c.39.39.9.59 1.41.59.51 0 1.02-.2 1.41-.59l7.78-7.78 2.81-2.81c.8-.78.8-2.07 0-2.86zM5.41 20L4 18.59l7.72-7.72 1.47 1.35L5.41 20z\"/>\n",
              "  </svg>\n",
              "      </button>\n",
              "      \n",
              "  <style>\n",
              "    .colab-df-container {\n",
              "      display:flex;\n",
              "      flex-wrap:wrap;\n",
              "      gap: 12px;\n",
              "    }\n",
              "\n",
              "    .colab-df-convert {\n",
              "      background-color: #E8F0FE;\n",
              "      border: none;\n",
              "      border-radius: 50%;\n",
              "      cursor: pointer;\n",
              "      display: none;\n",
              "      fill: #1967D2;\n",
              "      height: 32px;\n",
              "      padding: 0 0 0 0;\n",
              "      width: 32px;\n",
              "    }\n",
              "\n",
              "    .colab-df-convert:hover {\n",
              "      background-color: #E2EBFA;\n",
              "      box-shadow: 0px 1px 2px rgba(60, 64, 67, 0.3), 0px 1px 3px 1px rgba(60, 64, 67, 0.15);\n",
              "      fill: #174EA6;\n",
              "    }\n",
              "\n",
              "    [theme=dark] .colab-df-convert {\n",
              "      background-color: #3B4455;\n",
              "      fill: #D2E3FC;\n",
              "    }\n",
              "\n",
              "    [theme=dark] .colab-df-convert:hover {\n",
              "      background-color: #434B5C;\n",
              "      box-shadow: 0px 1px 3px 1px rgba(0, 0, 0, 0.15);\n",
              "      filter: drop-shadow(0px 1px 2px rgba(0, 0, 0, 0.3));\n",
              "      fill: #FFFFFF;\n",
              "    }\n",
              "  </style>\n",
              "\n",
              "      <script>\n",
              "        const buttonEl =\n",
              "          document.querySelector('#df-442ea701-2c7c-4716-894b-9cebf97b9fb4 button.colab-df-convert');\n",
              "        buttonEl.style.display =\n",
              "          google.colab.kernel.accessAllowed ? 'block' : 'none';\n",
              "\n",
              "        async function convertToInteractive(key) {\n",
              "          const element = document.querySelector('#df-442ea701-2c7c-4716-894b-9cebf97b9fb4');\n",
              "          const dataTable =\n",
              "            await google.colab.kernel.invokeFunction('convertToInteractive',\n",
              "                                                     [key], {});\n",
              "          if (!dataTable) return;\n",
              "\n",
              "          const docLinkHtml = 'Like what you see? Visit the ' +\n",
              "            '<a target=\"_blank\" href=https://colab.research.google.com/notebooks/data_table.ipynb>data table notebook</a>'\n",
              "            + ' to learn more about interactive tables.';\n",
              "          element.innerHTML = '';\n",
              "          dataTable['output_type'] = 'display_data';\n",
              "          await google.colab.output.renderOutput(dataTable, element);\n",
              "          const docLink = document.createElement('div');\n",
              "          docLink.innerHTML = docLinkHtml;\n",
              "          element.appendChild(docLink);\n",
              "        }\n",
              "      </script>\n",
              "    </div>\n",
              "  </div>\n",
              "  "
            ]
          },
          "metadata": {},
          "execution_count": 4
        }
      ]
    },
    {
      "cell_type": "markdown",
      "source": [
        "###### Note the use of `pd.set_option('display.float_format', lambda x: '%.3f' % x)` to set the display options. More on that [here](https://pandas.pydata.org/pandas-docs/stable/generated/pandas.set_option.html \"Pandas set_option\").\n",
        "\n",
        "###### You can also use `train.tail()` to display the last 5 entries in the two files. From the output we can get an idea of the way the data is structured. Of course, this isn't strictly necessary, since it is possible to get the same view by navigating to the *Input Files* at the top and clicking on any one of the CSV files used in this analysis."
      ],
      "metadata": {
        "id": "PWHA-RkBv6YV"
      }
    },
    {
      "cell_type": "markdown",
      "source": [
        "### Data Summary"
      ],
      "metadata": {
        "id": "z3bN-i0p-yQn"
      }
    },
    {
      "cell_type": "code",
      "source": [
        "pd.set_option('display.float_format', lambda x: '%.3f' % x)\n",
        "train.describe() # display a summary of statistical data"
      ],
      "metadata": {
        "colab": {
          "base_uri": "https://localhost:8080/",
          "height": 300
        },
        "id": "3ClxfFgp-0Ez",
        "outputId": "ebae7899-472d-4b03-e166-9356685f9fa1"
      },
      "execution_count": null,
      "outputs": [
        {
          "output_type": "execute_result",
          "data": {
            "text/plain": [
              "        vendor_id  passenger_count  pickup_longitude  pickup_latitude  \\\n",
              "count 1458644.000      1458644.000       1458644.000      1458644.000   \n",
              "mean        1.535            1.665           -73.973           40.751   \n",
              "std         0.499            1.314             0.071            0.033   \n",
              "min         1.000            0.000          -121.933           34.360   \n",
              "25%         1.000            1.000           -73.992           40.737   \n",
              "50%         2.000            1.000           -73.982           40.754   \n",
              "75%         2.000            2.000           -73.967           40.768   \n",
              "max         2.000            9.000           -61.336           51.881   \n",
              "\n",
              "       dropoff_longitude  dropoff_latitude  trip_duration  \n",
              "count        1458644.000       1458644.000    1458644.000  \n",
              "mean             -73.973            40.752        959.492  \n",
              "std                0.071             0.036       5237.432  \n",
              "min             -121.933            32.181          1.000  \n",
              "25%              -73.991            40.736        397.000  \n",
              "50%              -73.980            40.755        662.000  \n",
              "75%              -73.963            40.770       1075.000  \n",
              "max              -61.336            43.921    3526282.000  "
            ],
            "text/html": [
              "\n",
              "  <div id=\"df-307ab8e9-b629-434d-9115-984f581e81cc\">\n",
              "    <div class=\"colab-df-container\">\n",
              "      <div>\n",
              "<style scoped>\n",
              "    .dataframe tbody tr th:only-of-type {\n",
              "        vertical-align: middle;\n",
              "    }\n",
              "\n",
              "    .dataframe tbody tr th {\n",
              "        vertical-align: top;\n",
              "    }\n",
              "\n",
              "    .dataframe thead th {\n",
              "        text-align: right;\n",
              "    }\n",
              "</style>\n",
              "<table border=\"1\" class=\"dataframe\">\n",
              "  <thead>\n",
              "    <tr style=\"text-align: right;\">\n",
              "      <th></th>\n",
              "      <th>vendor_id</th>\n",
              "      <th>passenger_count</th>\n",
              "      <th>pickup_longitude</th>\n",
              "      <th>pickup_latitude</th>\n",
              "      <th>dropoff_longitude</th>\n",
              "      <th>dropoff_latitude</th>\n",
              "      <th>trip_duration</th>\n",
              "    </tr>\n",
              "  </thead>\n",
              "  <tbody>\n",
              "    <tr>\n",
              "      <th>count</th>\n",
              "      <td>1458644.000</td>\n",
              "      <td>1458644.000</td>\n",
              "      <td>1458644.000</td>\n",
              "      <td>1458644.000</td>\n",
              "      <td>1458644.000</td>\n",
              "      <td>1458644.000</td>\n",
              "      <td>1458644.000</td>\n",
              "    </tr>\n",
              "    <tr>\n",
              "      <th>mean</th>\n",
              "      <td>1.535</td>\n",
              "      <td>1.665</td>\n",
              "      <td>-73.973</td>\n",
              "      <td>40.751</td>\n",
              "      <td>-73.973</td>\n",
              "      <td>40.752</td>\n",
              "      <td>959.492</td>\n",
              "    </tr>\n",
              "    <tr>\n",
              "      <th>std</th>\n",
              "      <td>0.499</td>\n",
              "      <td>1.314</td>\n",
              "      <td>0.071</td>\n",
              "      <td>0.033</td>\n",
              "      <td>0.071</td>\n",
              "      <td>0.036</td>\n",
              "      <td>5237.432</td>\n",
              "    </tr>\n",
              "    <tr>\n",
              "      <th>min</th>\n",
              "      <td>1.000</td>\n",
              "      <td>0.000</td>\n",
              "      <td>-121.933</td>\n",
              "      <td>34.360</td>\n",
              "      <td>-121.933</td>\n",
              "      <td>32.181</td>\n",
              "      <td>1.000</td>\n",
              "    </tr>\n",
              "    <tr>\n",
              "      <th>25%</th>\n",
              "      <td>1.000</td>\n",
              "      <td>1.000</td>\n",
              "      <td>-73.992</td>\n",
              "      <td>40.737</td>\n",
              "      <td>-73.991</td>\n",
              "      <td>40.736</td>\n",
              "      <td>397.000</td>\n",
              "    </tr>\n",
              "    <tr>\n",
              "      <th>50%</th>\n",
              "      <td>2.000</td>\n",
              "      <td>1.000</td>\n",
              "      <td>-73.982</td>\n",
              "      <td>40.754</td>\n",
              "      <td>-73.980</td>\n",
              "      <td>40.755</td>\n",
              "      <td>662.000</td>\n",
              "    </tr>\n",
              "    <tr>\n",
              "      <th>75%</th>\n",
              "      <td>2.000</td>\n",
              "      <td>2.000</td>\n",
              "      <td>-73.967</td>\n",
              "      <td>40.768</td>\n",
              "      <td>-73.963</td>\n",
              "      <td>40.770</td>\n",
              "      <td>1075.000</td>\n",
              "    </tr>\n",
              "    <tr>\n",
              "      <th>max</th>\n",
              "      <td>2.000</td>\n",
              "      <td>9.000</td>\n",
              "      <td>-61.336</td>\n",
              "      <td>51.881</td>\n",
              "      <td>-61.336</td>\n",
              "      <td>43.921</td>\n",
              "      <td>3526282.000</td>\n",
              "    </tr>\n",
              "  </tbody>\n",
              "</table>\n",
              "</div>\n",
              "      <button class=\"colab-df-convert\" onclick=\"convertToInteractive('df-307ab8e9-b629-434d-9115-984f581e81cc')\"\n",
              "              title=\"Convert this dataframe to an interactive table.\"\n",
              "              style=\"display:none;\">\n",
              "        \n",
              "  <svg xmlns=\"http://www.w3.org/2000/svg\" height=\"24px\"viewBox=\"0 0 24 24\"\n",
              "       width=\"24px\">\n",
              "    <path d=\"M0 0h24v24H0V0z\" fill=\"none\"/>\n",
              "    <path d=\"M18.56 5.44l.94 2.06.94-2.06 2.06-.94-2.06-.94-.94-2.06-.94 2.06-2.06.94zm-11 1L8.5 8.5l.94-2.06 2.06-.94-2.06-.94L8.5 2.5l-.94 2.06-2.06.94zm10 10l.94 2.06.94-2.06 2.06-.94-2.06-.94-.94-2.06-.94 2.06-2.06.94z\"/><path d=\"M17.41 7.96l-1.37-1.37c-.4-.4-.92-.59-1.43-.59-.52 0-1.04.2-1.43.59L10.3 9.45l-7.72 7.72c-.78.78-.78 2.05 0 2.83L4 21.41c.39.39.9.59 1.41.59.51 0 1.02-.2 1.41-.59l7.78-7.78 2.81-2.81c.8-.78.8-2.07 0-2.86zM5.41 20L4 18.59l7.72-7.72 1.47 1.35L5.41 20z\"/>\n",
              "  </svg>\n",
              "      </button>\n",
              "      \n",
              "  <style>\n",
              "    .colab-df-container {\n",
              "      display:flex;\n",
              "      flex-wrap:wrap;\n",
              "      gap: 12px;\n",
              "    }\n",
              "\n",
              "    .colab-df-convert {\n",
              "      background-color: #E8F0FE;\n",
              "      border: none;\n",
              "      border-radius: 50%;\n",
              "      cursor: pointer;\n",
              "      display: none;\n",
              "      fill: #1967D2;\n",
              "      height: 32px;\n",
              "      padding: 0 0 0 0;\n",
              "      width: 32px;\n",
              "    }\n",
              "\n",
              "    .colab-df-convert:hover {\n",
              "      background-color: #E2EBFA;\n",
              "      box-shadow: 0px 1px 2px rgba(60, 64, 67, 0.3), 0px 1px 3px 1px rgba(60, 64, 67, 0.15);\n",
              "      fill: #174EA6;\n",
              "    }\n",
              "\n",
              "    [theme=dark] .colab-df-convert {\n",
              "      background-color: #3B4455;\n",
              "      fill: #D2E3FC;\n",
              "    }\n",
              "\n",
              "    [theme=dark] .colab-df-convert:hover {\n",
              "      background-color: #434B5C;\n",
              "      box-shadow: 0px 1px 3px 1px rgba(0, 0, 0, 0.15);\n",
              "      filter: drop-shadow(0px 1px 2px rgba(0, 0, 0, 0.3));\n",
              "      fill: #FFFFFF;\n",
              "    }\n",
              "  </style>\n",
              "\n",
              "      <script>\n",
              "        const buttonEl =\n",
              "          document.querySelector('#df-307ab8e9-b629-434d-9115-984f581e81cc button.colab-df-convert');\n",
              "        buttonEl.style.display =\n",
              "          google.colab.kernel.accessAllowed ? 'block' : 'none';\n",
              "\n",
              "        async function convertToInteractive(key) {\n",
              "          const element = document.querySelector('#df-307ab8e9-b629-434d-9115-984f581e81cc');\n",
              "          const dataTable =\n",
              "            await google.colab.kernel.invokeFunction('convertToInteractive',\n",
              "                                                     [key], {});\n",
              "          if (!dataTable) return;\n",
              "\n",
              "          const docLinkHtml = 'Like what you see? Visit the ' +\n",
              "            '<a target=\"_blank\" href=https://colab.research.google.com/notebooks/data_table.ipynb>data table notebook</a>'\n",
              "            + ' to learn more about interactive tables.';\n",
              "          element.innerHTML = '';\n",
              "          dataTable['output_type'] = 'display_data';\n",
              "          await google.colab.output.renderOutput(dataTable, element);\n",
              "          const docLink = document.createElement('div');\n",
              "          docLink.innerHTML = docLinkHtml;\n",
              "          element.appendChild(docLink);\n",
              "        }\n",
              "      </script>\n",
              "    </div>\n",
              "  </div>\n",
              "  "
            ]
          },
          "metadata": {},
          "execution_count": 5
        }
      ]
    },
    {
      "cell_type": "code",
      "source": [
        "train.info() # info() - print a concise summary of a DataFrame."
      ],
      "metadata": {
        "colab": {
          "base_uri": "https://localhost:8080/"
        },
        "id": "lFKG8YMF-7To",
        "outputId": "265214ec-c216-49ad-f670-1fd7d4d61062"
      },
      "execution_count": null,
      "outputs": [
        {
          "output_type": "stream",
          "name": "stdout",
          "text": [
            "<class 'pandas.core.frame.DataFrame'>\n",
            "RangeIndex: 1458644 entries, 0 to 1458643\n",
            "Data columns (total 11 columns):\n",
            " #   Column              Non-Null Count    Dtype  \n",
            "---  ------              --------------    -----  \n",
            " 0   id                  1458644 non-null  object \n",
            " 1   vendor_id           1458644 non-null  int64  \n",
            " 2   pickup_datetime     1458644 non-null  object \n",
            " 3   dropoff_datetime    1458644 non-null  object \n",
            " 4   passenger_count     1458644 non-null  int64  \n",
            " 5   pickup_longitude    1458644 non-null  float64\n",
            " 6   pickup_latitude     1458644 non-null  float64\n",
            " 7   dropoff_longitude   1458644 non-null  float64\n",
            " 8   dropoff_latitude    1458644 non-null  float64\n",
            " 9   store_and_fwd_flag  1458644 non-null  object \n",
            " 10  trip_duration       1458644 non-null  int64  \n",
            "dtypes: float64(4), int64(3), object(4)\n",
            "memory usage: 122.4+ MB\n"
          ]
        }
      ]
    },
    {
      "cell_type": "markdown",
      "source": [
        "### Trip Duration Clean-Up\n",
        "###### As we noted earlier there are some outliers associated with the `trip_duration` variable, specifically a 980 hour maximum trip duration and a minimum of 1 second trip duration. I've decided to exclude data that lies outside 2 standard deviations from the mean. It might be worthwhile looking into what effect excluding up to 4 standard deviations would have on the end-results."
      ],
      "metadata": {
        "id": "drISrQeG_Bol"
      }
    },
    {
      "cell_type": "code",
      "source": [
        "m = np.mean(train['trip_duration'])\n",
        "s = np.std(train['trip_duration'])\n",
        "train = train[train['trip_duration'] <= m + 2*s]\n",
        "train = train[train['trip_duration'] >= m - 2*s]"
      ],
      "metadata": {
        "id": "SCwfQEWI_EeA"
      },
      "execution_count": null,
      "outputs": []
    },
    {
      "cell_type": "markdown",
      "source": [
        "### Latitude and Longitude Clean-up\n",
        "###### Looking into it, the borders of NY City, in coordinates comes out to be:\n",
        "\n",
        "city_long_border = (-74.03, -73.75)\n",
        "city_lat_border = (40.63, 40.85)\n",
        "\n",
        "Comparing this to our `train.describe()` output we see that there are some coordinate points (pick ups/drop offs) that fall outside these borders. So let's limit our area of investigation to within the NY City borders."
      ],
      "metadata": {
        "id": "m1fGvBiQ_IG5"
      }
    },
    {
      "cell_type": "code",
      "source": [
        "train = train[train['pickup_longitude'] <= -73.75]\n",
        "train = train[train['pickup_longitude'] >= -74.03]\n",
        "train = train[train['pickup_latitude'] <= 40.85]\n",
        "train = train[train['pickup_latitude'] >= 40.63]\n",
        "train = train[train['dropoff_longitude'] <= -73.75]\n",
        "train = train[train['dropoff_longitude'] >= -74.03]\n",
        "train = train[train['dropoff_latitude'] <= 40.85]\n",
        "train = train[train['dropoff_latitude'] >= 40.63]"
      ],
      "metadata": {
        "id": "B_ZIH2J8_LMf"
      },
      "execution_count": null,
      "outputs": []
    },
    {
      "cell_type": "markdown",
      "source": [
        "### Date Clean-up\n",
        "###### As a final step in preparing our data we need to change the formatting of the date variables (`pickup_datetime` and `dropoff_datetime`). This will help a lot with data extraction in the coming section.\n"
      ],
      "metadata": {
        "id": "9iXGUzME_QFx"
      }
    },
    {
      "cell_type": "code",
      "source": [
        "# pd.to_datatime - Convert argument to datetime.\n",
        "train['pickup_datetime'] = pd.to_datetime(train.pickup_datetime)\n",
        "test['pickup_datetime'] = pd.to_datetime(test.pickup_datetime)\n",
        "train.loc[:, 'pickup_date'] = train['pickup_datetime'].dt.date\n",
        "test.loc[:, 'pickup_date'] = test['pickup_datetime'].dt.date\n",
        "train['dropoff_datetime'] = pd.to_datetime(train.dropoff_datetime) #Not in Test"
      ],
      "metadata": {
        "id": "MRNbp1mz_SJZ"
      },
      "execution_count": null,
      "outputs": []
    },
    {
      "cell_type": "markdown",
      "source": [
        "### Initial Analysis\n",
        "###### Let's plot a simple histogram of the trip duration, throwing the data into 100 bins. Change this around to get a feel for what binning does to your data. Simply put, binning involves taking your data's max and min points, subtracting it to get the length, dividing that length by the number of bins to get the interval length, and grouping the data points into those intervals. Here's what that looks like:"
      ],
      "metadata": {
        "id": "6x_L21LP_p7v"
      }
    },
    {
      "cell_type": "code",
      "source": [
        "plt.hist(train['trip_duration'].values, bins=100)\n",
        "plt.xlabel('trip_duration') # title for x\n",
        "plt.ylabel('number of train records') # title for y\n",
        "plt.show() # show"
      ],
      "metadata": {
        "colab": {
          "base_uri": "https://localhost:8080/",
          "height": 280
        },
        "id": "vTenA5OR_qzN",
        "outputId": "cb745b46-fbbd-4951-aad0-5227a476f986"
      },
      "execution_count": null,
      "outputs": [
        {
          "output_type": "display_data",
          "data": {
            "text/plain": [
              "<Figure size 432x288 with 1 Axes>"
            ],
            "image/png": "[encoded data removed]"
          },
          "metadata": {
            "needs_background": "light"
          }
        }
      ]
    },
    {
      "cell_type": "markdown",
      "source": [
        "###### This is a good opportunity to play with some data transformations to see if notable patterns emerge in the data when applying certain transforms, for example a log transform. In this case, applying a log transformation to the trip duration makes sense, since we are doing this to accommodate the leaderboard's scoring metric. That would look like this:"
      ],
      "metadata": {
        "id": "noSLFhRwzJKA"
      }
    },
    {
      "cell_type": "code",
      "source": [
        "train['log_trip_duration'] = np.log(train['trip_duration'].values + 1)\n",
        "# bins - the range of values that is, divide the entire range of values into a series of intervals.\n",
        "plt.hist(train['log_trip_duration'].values, bins=100)\n",
        "plt.xlabel('log(trip_duration)')\n",
        "plt.ylabel('number of train records')\n",
        "plt.show()\n",
        "sns.distplot(train[\"log_trip_duration\"], bins =100)"
      ],
      "metadata": {
        "colab": {
          "base_uri": "https://localhost:8080/",
          "height": 617
        },
        "id": "DutU_nvh_vGq",
        "outputId": "21c11333-023c-4dc3-d818-7b8b5978f574"
      },
      "execution_count": null,
      "outputs": [
        {
          "output_type": "display_data",
          "data": {
            "text/plain": [
              "<Figure size 432x288 with 1 Axes>"
            ],
            "image/png": "[encoded data removed]"
          },
          "metadata": {
            "needs_background": "light"
          }
        },
        {
          "output_type": "stream",
          "name": "stderr",
          "text": [
            "/usr/local/lib/python3.7/dist-packages/seaborn/distributions.py:2619: FutureWarning: `distplot` is a deprecated function and will be removed in a future version. Please adapt your code to use either `displot` (a figure-level function with similar flexibility) or `histplot` (an axes-level function for histograms).\n",
            "  warnings.warn(msg, FutureWarning)\n"
          ]
        },
        {
          "output_type": "execute_result",
          "data": {
            "text/plain": [
              "<matplotlib.axes._subplots.AxesSubplot at 0x7f44d389c490>"
            ]
          },
          "metadata": {},
          "execution_count": 11
        },
        {
          "output_type": "display_data",
          "data": {
            "text/plain": [
              "<Figure size 432x288 with 1 Axes>"
            ],
            "image/png": "[encoded data removed]"
          },
          "metadata": {
            "needs_background": "light"
          }
        }
      ]
    },
    {
      "cell_type": "markdown",
      "source": [
        "###### One might also be interested to view the number of trips over time, since this could reveal not only apparent seasonality in the data and certain trends, but could point out any siginficant outliers (if not already cleaned out of the data set of course) and indicate missing values (again, only if it wasn't already checked and cleaned in the data set).\n",
        "\n",
        "For this we'll simply plot a timeseries line graph of both the test and training data to not only look into identifying possible trends/seasonality but to see if both data sets follow the same pattern shape. Reasonably we'd expect the two datasets to follow a very similar shape since the test data would be/is a randomly selected sample from the original dataset containing all data points. By picking the test points randomly, each data point has the same likelihood of being picked as a test point, thus ensuring uniformity in the test data sample."
      ],
      "metadata": {
        "id": "92sLM0wLz_KJ"
      }
    },
    {
      "cell_type": "code",
      "source": [
        "plt.plot(train.groupby('pickup_date').count()[['id']], 'o-', label='train')\n",
        "plt.plot(test.groupby('pickup_date').count()[['id']], 'o-', label='test')\n",
        "plt.title('Trips over Time.')\n",
        "plt.legend(loc=0)\n",
        "plt.ylabel('Trips')\n",
        "plt.show()"
      ],
      "metadata": {
        "colab": {
          "base_uri": "https://localhost:8080/",
          "height": 281
        },
        "id": "y74DxOwz_0po",
        "outputId": "16107a85-6dcd-4c20-d641-df118cc7f4d5"
      },
      "execution_count": null,
      "outputs": [
        {
          "output_type": "display_data",
          "data": {
            "text/plain": [
              "<Figure size 432x288 with 1 Axes>"
            ],
            "image/png": "[encoded data removed]"
          },
          "metadata": {
            "needs_background": "light"
          }
        }
      ]
    },
    {
      "cell_type": "markdown",
      "source": [
        "###### Clearly the test and train datasets follow a very simila shape, as expected. A couple of points stand out at first glance. Around late-Jan/early-Feb there is a massive drop in the number of trips taken. A slightly less drastic drop is apparent about four months later. The first drop could be related to the season: it's winter in New York so you'd expect less trips being taken (who wants to ride around when it's near freezing outside?). However, this seems unlikely because the dip looks to be isolated around a single day or couple of days. In my opinion there's a greater chance that there were strikes (if you've got the South African mindset I do, but this is New York, so probably not that) or that there was an issue with the data system recording the trips. Whatever the reason, it's worth noting these 'outliers'.\n",
        "\n",
        "Let's see how significantly (or not significantly at all) the two vendors differ in their respective mean trip durations:"
      ],
      "metadata": {
        "id": "_AerMBPR1hIz"
      }
    },
    {
      "cell_type": "code",
      "source": [
        "import warnings\n",
        "warnings.filterwarnings(\"ignore\")\n",
        "plot_vendor = train.groupby('vendor_id')['trip_duration'].mean() # groupby - divide the data into separate groups to perform calculations for better analysis.\n",
        "plt.subplots(1,1,figsize=(17,10))\n",
        "plt.ylim(ymin=800)\n",
        "plt.ylim(ymax=840)\n",
        "sns.barplot(plot_vendor.index,plot_vendor.values)\n",
        "plt.title('Time per Vendor')\n",
        "plt.legend(loc=0)\n",
        "plt.ylabel('Time in Seconds')"
      ],
      "metadata": {
        "colab": {
          "base_uri": "https://localhost:8080/",
          "height": 658
        },
        "id": "b5Mrwtn6_8B7",
        "outputId": "7037bce7-8f3c-4140-8e7a-84c61a141a3c"
      },
      "execution_count": null,
      "outputs": [
        {
          "output_type": "stream",
          "name": "stderr",
          "text": [
            "No handles with labels found to put in legend.\n"
          ]
        },
        {
          "output_type": "execute_result",
          "data": {
            "text/plain": [
              "Text(0, 0.5, 'Time in Seconds')"
            ]
          },
          "metadata": {},
          "execution_count": 13
        },
        {
          "output_type": "display_data",
          "data": {
            "text/plain": [
              "<Figure size 1224x720 with 1 Axes>"
            ],
            "image/png": "[encoded data removed]"
          },
          "metadata": {
            "needs_background": "light"
          }
        }
      ]
    },
    {
      "cell_type": "markdown",
      "source": [
        "###### So it doesn't look like there's much of a difference between travel times for the two vendors. One would assume that knowing which routes are the fastest to take from A to B is no secret, and that it is more a trick of the trade, rather than IP. But something doesn't look right, so there's another feature we can use to see if after all there is a significant difference in mean travel time: the `store_and_fwd_flag`."
      ],
      "metadata": {
        "id": "hCbUlr8B19lC"
      }
    },
    {
      "cell_type": "code",
      "source": [
        "snwflag = train.groupby('store_and_fwd_flag')['trip_duration'].mean()\n",
        "\n",
        "plt.subplots(1,1,figsize=(17,10))\n",
        "plt.ylim(ymin=0)\n",
        "plt.ylim(ymax=1100)\n",
        "plt.title('Time per store_and_fwd_flag')\n",
        "plt.legend(loc=0)\n",
        "plt.ylabel('Time in Seconds')\n",
        "sns.barplot(snwflag.index,snwflag.values)"
      ],
      "metadata": {
        "colab": {
          "base_uri": "https://localhost:8080/",
          "height": 658
        },
        "id": "rOxeraVlAe2X",
        "outputId": "a05fdca1-0dcc-4658-8f41-86e16661f01d"
      },
      "execution_count": null,
      "outputs": [
        {
          "output_type": "stream",
          "name": "stderr",
          "text": [
            "No handles with labels found to put in legend.\n"
          ]
        },
        {
          "output_type": "execute_result",
          "data": {
            "text/plain": [
              "<matplotlib.axes._subplots.AxesSubplot at 0x7f44d0dc3950>"
            ]
          },
          "metadata": {},
          "execution_count": 14
        },
        {
          "output_type": "display_data",
          "data": {
            "text/plain": [
              "<Figure size 1224x720 with 1 Axes>"
            ],
            "image/png": "[encoded data removed]"
          },
          "metadata": {
            "needs_background": "light"
          }
        }
      ]
    },
    {
      "cell_type": "markdown",
      "source": [
        "###### So it would seem that the `store_and_fwd_flag` discriminates well between travel times. Clearly there is a slight skew in the data where some of the vendor employees didn't record their travel times accurately.\n",
        "\n",
        "As mentioned earlier when digging into the variables, I thought about the impact that the number of passengers per trip might have on travel time. The thought process was that more passengers might equal more stops, hence prolonging the travel time from start to finish (unless the different drop-offs were recorded as separate trips). So in order to find out if there is infact a significant influence in travel time, let's group the mean travel times by the `passenger_count`:"
      ],
      "metadata": {
        "id": "tzBfM5sE2gVi"
      }
    },
    {
      "cell_type": "code",
      "source": [
        "pc = train.groupby('passenger_count')['trip_duration'].mean()\n",
        "\n",
        "plt.subplots(1,1,figsize=(17,10))\n",
        "plt.ylim(ymin=0)\n",
        "plt.ylim(ymax=1100)\n",
        "plt.title('Time per store_and_fwd_flag')\n",
        "plt.legend(loc=0)\n",
        "plt.ylabel('Time in Seconds')\n",
        "sns.barplot(pc.index,pc.values)"
      ],
      "metadata": {
        "colab": {
          "base_uri": "https://localhost:8080/",
          "height": 658
        },
        "id": "0XJo9sYYAkTt",
        "outputId": "4d35b565-2fbb-4487-b6ea-a6460dc0ffa6"
      },
      "execution_count": null,
      "outputs": [
        {
          "output_type": "stream",
          "name": "stderr",
          "text": [
            "No handles with labels found to put in legend.\n"
          ]
        },
        {
          "output_type": "execute_result",
          "data": {
            "text/plain": [
              "<matplotlib.axes._subplots.AxesSubplot at 0x7f44d0d28c10>"
            ]
          },
          "metadata": {},
          "execution_count": 15
        },
        {
          "output_type": "display_data",
          "data": {
            "text/plain": [
              "<Figure size 1224x720 with 1 Axes>"
            ],
            "image/png": "[encoded data removed]"
          },
          "metadata": {
            "needs_background": "light"
          }
        }
      ]
    },
    {
      "cell_type": "markdown",
      "source": [
        "###### So no significant difference evident that could be explained by the number of passengers in the vehicle for any given trip. It is interesting to note that there is are on average +-4min trips associated with no passengers. This is probably a mistake made in recording the data unless the vendor employee is into charging him/herself for trips whilst on the job.\n",
        "\n",
        "Again, we need to check whether the test and train data matches with respect to the number of trips containing X-number of passengers:"
      ],
      "metadata": {
        "id": "sr30NI532yR0"
      }
    },
    {
      "cell_type": "code",
      "source": [
        "train.groupby('passenger_count').size()"
      ],
      "metadata": {
        "colab": {
          "base_uri": "https://localhost:8080/"
        },
        "id": "UEqdCx8XAoqG",
        "outputId": "6c2e5d9e-9a1c-4148-eede-9be3446fd537"
      },
      "execution_count": null,
      "outputs": [
        {
          "output_type": "execute_result",
          "data": {
            "text/plain": [
              "passenger_count\n",
              "0         52\n",
              "1    1018715\n",
              "2     206864\n",
              "3      58989\n",
              "4      27957\n",
              "5      76912\n",
              "6      47639\n",
              "dtype: int64"
            ]
          },
          "metadata": {},
          "execution_count": 16
        }
      ]
    },
    {
      "cell_type": "code",
      "source": [
        "test.groupby('passenger_count').size()"
      ],
      "metadata": {
        "colab": {
          "base_uri": "https://localhost:8080/"
        },
        "id": "RWUx2R_aArzb",
        "outputId": "bf34d960-b30e-4fbc-d4bb-e325a9c17024"
      },
      "execution_count": null,
      "outputs": [
        {
          "output_type": "execute_result",
          "data": {
            "text/plain": [
              "passenger_count\n",
              "0        23\n",
              "1    443447\n",
              "2     90027\n",
              "3     25686\n",
              "4     12017\n",
              "5     33411\n",
              "6     20521\n",
              "9         2\n",
              "dtype: int64"
            ]
          },
          "metadata": {},
          "execution_count": 17
        }
      ]
    },
    {
      "cell_type": "markdown",
      "source": [
        "### Pickup Locations\n",
        "###### To do this, we utilise the city map border coordinates for New York, mentioned earlier in the kernel to create the canvas wherein the coordinate points will be graphed. To display the actual coordinates a simple scatter plot is used:"
      ],
      "metadata": {
        "id": "PkIdz3H0Ax0L"
      }
    },
    {
      "cell_type": "code",
      "source": [
        "city_long_border = (-74.03, -73.75)\n",
        "city_lat_border = (40.63, 40.85)\n",
        "# sharex - used to link the x axes of subplots in the resulting figure.\n",
        "# sharey - used to link the y axes of subplots in the resulting figure. \n",
        "fig, ax = plt.subplots(ncols=2, sharex=True, sharey=True)\n",
        "# alpha - The alpha blending value, between 0 (transparent) and 1 (opaque).\n",
        "ax[0].scatter(train['pickup_longitude'].values[:100000], train['pickup_latitude'].values[:100000],\n",
        "              color='blue', s=1, label='train', alpha=0.1)\n",
        "ax[1].scatter(test['pickup_longitude'].values[:100000], test['pickup_latitude'].values[:100000],\n",
        "              color='green', s=1, label='test', alpha=0.1)\n",
        "fig.suptitle('Train and test area complete overlap.')\n",
        "ax[0].legend(loc=0)\n",
        "ax[0].set_ylabel('latitude')\n",
        "ax[0].set_xlabel('longitude')\n",
        "ax[1].set_xlabel('longitude')\n",
        "ax[1].legend(loc=0)\n",
        "plt.ylim(city_lat_border)\n",
        "plt.xlim(city_long_border)\n",
        "plt.show()"
      ],
      "metadata": {
        "colab": {
          "base_uri": "https://localhost:8080/",
          "height": 308
        },
        "id": "fc50EQ_JAzEB",
        "outputId": "f7c2350c-97f8-49ae-8698-df28da77668e"
      },
      "execution_count": null,
      "outputs": [
        {
          "output_type": "display_data",
          "data": {
            "text/plain": [
              "<Figure size 432x288 with 2 Axes>"
            ],
            "image/png": "[encoded data removed]"
          },
          "metadata": {
            "needs_background": "light"
          }
        }
      ]
    },
    {
      "cell_type": "markdown",
      "source": [
        "###### We can tell from the two graphs that the pickup locations are quite similar, with the notable difference being that the train data set simply has more data points (which makes sense)."
      ],
      "metadata": {
        "id": "B-Cw7oUs4Gr4"
      }
    },
    {
      "cell_type": "markdown",
      "source": [
        "### Distance and Directionality\n",
        "###### We can determine the distance and direction of a specific trip based on the pickup and dropoff coordinates. For this I've made three functions, as:"
      ],
      "metadata": {
        "id": "V6TKV_XuBWA-"
      }
    },
    {
      "cell_type": "code",
      "source": [
        "def haversine_array(lat1, lng1, lat2, lng2):\n",
        "    lat1, lng1, lat2, lng2 = map(np.radians, (lat1, lng1, lat2, lng2))\n",
        "    AVG_EARTH_RADIUS = 6371  # in km\n",
        "    lat = lat2 - lat1\n",
        "    lng = lng2 - lng1\n",
        "    d = np.sin(lat * 0.5) ** 2 + np.cos(lat1) * np.cos(lat2) * np.sin(lng * 0.5) ** 2\n",
        "    h = 2 * AVG_EARTH_RADIUS * np.arcsin(np.sqrt(d))\n",
        "    return h\n",
        "\n",
        "def dummy_manhattan_distance(lat1, lng1, lat2, lng2):\n",
        "    a = haversine_array(lat1, lng1, lat1, lng2)\n",
        "    b = haversine_array(lat1, lng1, lat2, lng1)\n",
        "    return a + b\n",
        "\n",
        "def bearing_array(lat1, lng1, lat2, lng2):\n",
        "    AVG_EARTH_RADIUS = 6371  # in km\n",
        "    lng_delta_rad = np.radians(lng2 - lng1)\n",
        "    lat1, lng1, lat2, lng2 = map(np.radians, (lat1, lng1, lat2, lng2))\n",
        "    y = np.sin(lng_delta_rad) * np.cos(lat2)\n",
        "    x = np.cos(lat1) * np.sin(lat2) - np.sin(lat1) * np.cos(lat2) * np.cos(lng_delta_rad)\n",
        "    return np.degrees(np.arctan2(y, x))"
      ],
      "metadata": {
        "id": "5ISNbfcqBX3h"
      },
      "execution_count": null,
      "outputs": []
    },
    {
      "cell_type": "markdown",
      "source": [
        "###### Applying these functions to both the test and train data, we can calculate the haversine distance which is the great-circle distance between two points on a sphere given their longitudes and latitudes. We can then calculate the summed distance traveled in Manhattan. And finally we calculate (through some handy trigonometry) the direction (or bearing) of the distance traveled. These calculations are stored as variables in the separate data sets. The next step I decided to take is to create neighourhods, like Soho, or the Upper East Side, from the data and display this."
      ],
      "metadata": {
        "id": "l2p0WruF4boD"
      }
    },
    {
      "cell_type": "code",
      "source": [
        "# loc - Access a group of rows and columns by label(s) or a boolean array.\n",
        "train.loc[:, 'distance_haversine'] = haversine_array(train['pickup_latitude'].values, train['pickup_longitude'].values, train['dropoff_latitude'].values, train['dropoff_longitude'].values)\n",
        "test.loc[:, 'distance_haversine'] = haversine_array(test['pickup_latitude'].values, test['pickup_longitude'].values, test['dropoff_latitude'].values, test['dropoff_longitude'].values)    \n",
        "    \n",
        "train.loc[:, 'distance_dummy_manhattan'] =  dummy_manhattan_distance(train['pickup_latitude'].values, train['pickup_longitude'].values, train['dropoff_latitude'].values, train['dropoff_longitude'].values)\n",
        "test.loc[:, 'distance_dummy_manhattan'] =  dummy_manhattan_distance(test['pickup_latitude'].values, test['pickup_longitude'].values, test['dropoff_latitude'].values, test['dropoff_longitude'].values)\n",
        "\n",
        "train.loc[:, 'direction'] = bearing_array(train['pickup_latitude'].values, train['pickup_longitude'].values, train['dropoff_latitude'].values, train['dropoff_longitude'].values)\n",
        "test.loc[:, 'direction'] = bearing_array(test['pickup_latitude'].values, test['pickup_longitude'].values, test['dropoff_latitude'].values, test['dropoff_longitude'].values)"
      ],
      "metadata": {
        "id": "r_wAjkBxBdnX"
      },
      "execution_count": null,
      "outputs": []
    },
    {
      "cell_type": "markdown",
      "source": [
        "### Lets create the \"Neighborhoods\"\n",
        "###### One might think it necessary to have a map handy to do this, but not really. This will intuitively work as KMeans will cluster the data points into their own neighborhoods. This is pretty straight forward since Numpy helps create a vertically stacked array of the pickup and dropoff coordinates, and using `sklearn`'s MiniBatchKMeans module it's easy to set up the parameters to create the clusters.\n",
        "\n",
        "There are three steps to preparing the data: create the coordinates stack, configure the KMeans clustering parameters, and create the actual clusters:"
      ],
      "metadata": {
        "id": "bTBY7_xVBhY0"
      }
    },
    {
      "cell_type": "code",
      "source": [
        "# vstack - Stack arrays in sequence vertically (row wise).\n",
        "coords = np.vstack((train[['pickup_latitude', 'pickup_longitude']].values,\n",
        "                    train[['dropoff_latitude', 'dropoff_longitude']].values))"
      ],
      "metadata": {
        "id": "yapiPDKmBihc"
      },
      "execution_count": null,
      "outputs": []
    },
    {
      "cell_type": "code",
      "source": [
        "# np.random.permutation - Randomly permute a sequence, or return a permuted range.\n",
        "sample_ind = np.random.permutation(len(coords))[:500000]\n",
        "kmeans = MiniBatchKMeans(n_clusters=100, batch_size=10000).fit(coords[sample_ind])"
      ],
      "metadata": {
        "id": "jAlQMCtjBl5G"
      },
      "execution_count": null,
      "outputs": []
    },
    {
      "cell_type": "code",
      "source": [
        "train.loc[:, 'pickup_cluster'] = kmeans.predict(train[['pickup_latitude', 'pickup_longitude']])\n",
        "train.loc[:, 'dropoff_cluster'] = kmeans.predict(train[['dropoff_latitude', 'dropoff_longitude']])\n",
        "test.loc[:, 'pickup_cluster'] = kmeans.predict(test[['pickup_latitude', 'pickup_longitude']])\n",
        "test.loc[:, 'dropoff_cluster'] = kmeans.predict(test[['dropoff_latitude', 'dropoff_longitude']])"
      ],
      "metadata": {
        "id": "u9-DpvF_BoV2"
      },
      "execution_count": null,
      "outputs": []
    },
    {
      "cell_type": "markdown",
      "source": [
        "###### Once you've run through these steps, you're all set to display these clusters in a similar way than the pickup locations. So as an example, I'll graph the pickup location clusters. Again, the map is drawn on the New York border coordinates canvas we created earlier:"
      ],
      "metadata": {
        "id": "jO9Ybu1g51dA"
      }
    },
    {
      "cell_type": "code",
      "source": [
        "fig, ax = plt.subplots(ncols=1, nrows=1)\n",
        "ax.scatter(train.pickup_longitude.values[:500000], train.pickup_latitude.values[:500000], s=10, lw=0,\n",
        "           c=train.pickup_cluster[:500000].values, cmap='autumn', alpha=0.2)\n",
        "ax.set_xlim(city_long_border)\n",
        "ax.set_ylim(city_lat_border)\n",
        "ax.set_xlabel('Longitude')\n",
        "ax.set_ylabel('Latitude')\n",
        "plt.show()"
      ],
      "metadata": {
        "colab": {
          "base_uri": "https://localhost:8080/",
          "height": 283
        },
        "id": "SM25CxqmBrGL",
        "outputId": "28c70a81-5d77-4a8b-9c66-19350a7819f9"
      },
      "execution_count": null,
      "outputs": [
        {
          "output_type": "display_data",
          "data": {
            "text/plain": [
              "<Figure size 432x288 with 1 Axes>"
            ],
            "image/png": "[encoded data removed]"
          },
          "metadata": {
            "needs_background": "light"
          }
        }
      ]
    },
    {
      "cell_type": "markdown",
      "source": [
        "###### This shows a nice visual representation of the KMeans clustering algorithm at work (we used 100 clusters, but there is freedom to play around with this parameter to see how it changes the results). The clustering effectively created the different neighbourhoods in Manhattan as displayed by the borders between the different colors. This should be intuitive to some degree as a trip would differ from point A to point B, in various parts of New york. By nature, it's different.\n",
        "\n",
        "The next step is to start looking into extracting information from the dates and starting to think about encoding the data."
      ],
      "metadata": {
        "id": "QwTZPfUI6BfH"
      }
    },
    {
      "cell_type": "markdown",
      "source": [
        "### Date Extraction\n",
        "###### Part of the reasoning behind extracting the different parts of the date for each trip is to enable us to do one hot encoding. This involves changing categorical variables into binary variables. It makes it easier to use when training ML models, since logically a machine can much better understand 1's and 0's rather than 'January' or 'Febuary', for example. You can read more on one hot encoding [here](http://machinelearningmastery.com/how-to-one-hot-encode-sequence-data-in-python/ \"One Hot Encoding\"). To make sure we can use the features we extract from the dates, we need to check if both data sets has the same size (i.e. same number of months, days, hours, etc.)."
      ],
      "metadata": {
        "id": "EK3LJVjzCUCD"
      }
    },
    {
      "cell_type": "code",
      "source": [
        "#Extracting Month\n",
        "train['Month'] = train['pickup_datetime'].dt.month\n",
        "test['Month'] = test['pickup_datetime'].dt.month"
      ],
      "metadata": {
        "id": "R3bhDQbkCV9Q"
      },
      "execution_count": null,
      "outputs": []
    },
    {
      "cell_type": "code",
      "source": [
        "train.groupby('Month').size(),test.groupby('Month').size()"
      ],
      "metadata": {
        "colab": {
          "base_uri": "https://localhost:8080/"
        },
        "id": "3un2TLIwCY7o",
        "outputId": "d2946bad-d5c5-4a35-ae04-8e6205d41ee2"
      },
      "execution_count": null,
      "outputs": [
        {
          "output_type": "execute_result",
          "data": {
            "text/plain": [
              "(Month\n",
              " 1    226444\n",
              " 2    235054\n",
              " 3    252443\n",
              " 4    247855\n",
              " 5    244591\n",
              " 6    230741\n",
              " dtype: int64, Month\n",
              " 1     97676\n",
              " 2    102314\n",
              " 3    109697\n",
              " 4    107432\n",
              " 5    107570\n",
              " 6    100445\n",
              " dtype: int64)"
            ]
          },
          "metadata": {},
          "execution_count": 26
        }
      ]
    },
    {
      "cell_type": "markdown",
      "source": [
        "###### Both train and test data sets have 6 months, so months are ready for dummy variables (i.e. encoding)."
      ],
      "metadata": {
        "id": "iYVJWU106V93"
      }
    },
    {
      "cell_type": "code",
      "source": [
        "train['DayofMonth'] = train['pickup_datetime'].dt.day\n",
        "test['DayofMonth'] = test['pickup_datetime'].dt.day\n",
        "len(train.groupby('DayofMonth').size()),len(test.groupby('DayofMonth').size())"
      ],
      "metadata": {
        "colab": {
          "base_uri": "https://localhost:8080/"
        },
        "id": "yfS_V9AiCbwV",
        "outputId": "c62037c7-6664-4f52-d96f-bcd816283062"
      },
      "execution_count": null,
      "outputs": [
        {
          "output_type": "execute_result",
          "data": {
            "text/plain": [
              "(31, 31)"
            ]
          },
          "metadata": {},
          "execution_count": 27
        }
      ]
    },
    {
      "cell_type": "markdown",
      "source": [
        "###### Both train and test data sets have 31 days, so days are ready for dummy variables (i.e. encoding)."
      ],
      "metadata": {
        "id": "VO3K1e9J6c9X"
      }
    },
    {
      "cell_type": "code",
      "source": [
        "train['Hour'] = train['pickup_datetime'].dt.hour\n",
        "test['Hour'] = test['pickup_datetime'].dt.hour\n",
        "len(train.groupby('Hour').size()),len(test.groupby('Hour').size())"
      ],
      "metadata": {
        "colab": {
          "base_uri": "https://localhost:8080/"
        },
        "id": "NZcFaYvACdm2",
        "outputId": "bdf6023a-a1d2-4283-9b83-93bb245872b1"
      },
      "execution_count": null,
      "outputs": [
        {
          "output_type": "execute_result",
          "data": {
            "text/plain": [
              "(24, 24)"
            ]
          },
          "metadata": {},
          "execution_count": 28
        }
      ]
    },
    {
      "cell_type": "markdown",
      "source": [
        "###### Both train and test data sets have 24 hours, so hours are ready for dummy variables (i.e. encoding)."
      ],
      "metadata": {
        "id": "dEHP1u4t6hgV"
      }
    },
    {
      "cell_type": "code",
      "source": [
        "train['dayofweek'] = train['pickup_datetime'].dt.dayofweek\n",
        "test['dayofweek'] = test['pickup_datetime'].dt.dayofweek\n",
        "len(train.groupby('dayofweek').size()),len(test.groupby('dayofweek').size())"
      ],
      "metadata": {
        "colab": {
          "base_uri": "https://localhost:8080/"
        },
        "id": "2v0iqQjVCfyV",
        "outputId": "edd07046-6e89-4014-e128-fe96d32ffe1b"
      },
      "execution_count": null,
      "outputs": [
        {
          "output_type": "execute_result",
          "data": {
            "text/plain": [
              "(7, 7)"
            ]
          },
          "metadata": {},
          "execution_count": 29
        }
      ]
    },
    {
      "cell_type": "markdown",
      "source": [
        "###### Both sets of data has 7 days per week. That's fine for encoding aswell."
      ],
      "metadata": {
        "id": "lFU-0HAn6nGk"
      }
    },
    {
      "cell_type": "markdown",
      "source": [
        "###### So, excellent! We can safely use the different date parts in their extracted forms as part of the modelling process. Let's take a look at the average speed and how it changes over time, specifically focusing on how the hour of the day, the day of the week, and the moth of the year affects average speed. It's important to note though that average speed is a function of distance and time so it wouldn't add anything to the modelling output. We'll therefore need to remove it eventually before we train our model."
      ],
      "metadata": {
        "id": "yfwCAmWG6udC"
      }
    },
    {
      "cell_type": "code",
      "source": [
        "train.loc[:, 'avg_speed_h'] = 1000 * train['distance_haversine'] / train['trip_duration']\n",
        "train.loc[:, 'avg_speed_m'] = 1000 * train['distance_dummy_manhattan'] / train['trip_duration']\n",
        "fig, ax = plt.subplots(ncols=3, sharey=True)\n",
        "ax[0].plot(train.groupby('Hour').mean()['avg_speed_h'], 'bo-', lw=2, alpha=0.7)\n",
        "ax[1].plot(train.groupby('dayofweek').mean()['avg_speed_h'], 'go-', lw=2, alpha=0.7)\n",
        "ax[2].plot(train.groupby('Month').mean()['avg_speed_h'], 'ro-', lw=2, alpha=0.7)\n",
        "ax[0].set_xlabel('Hour of Day')\n",
        "ax[1].set_xlabel('Day of Week')\n",
        "ax[2].set_xlabel('Month of Year')\n",
        "ax[0].set_ylabel('Average Speed')\n",
        "fig.suptitle('Average Traffic Speed by Date-part')\n",
        "plt.show()"
      ],
      "metadata": {
        "colab": {
          "base_uri": "https://localhost:8080/",
          "height": 308
        },
        "id": "0y4BHfInCji9",
        "outputId": "09149282-9a9a-4af7-ecd3-f5b46f5ef254"
      },
      "execution_count": null,
      "outputs": [
        {
          "output_type": "display_data",
          "data": {
            "text/plain": [
              "<Figure size 432x288 with 3 Axes>"
            ],
            "image/png": "[encoded data removed]"
          },
          "metadata": {
            "needs_background": "light"
          }
        }
      ]
    },
    {
      "cell_type": "markdown",
      "source": [
        "###### So the interesting thing to notice here is the average speed by hour of day. We're I'm from traffic usually peaks between 5am and 9am, and then again from about 4pm to around 6 or 7pm. But it would seem in manhattan that average speed diminishes as the day goes by from around 6am and picks up again around 7 or 8pm. So most of the travelling in the Big Apple happens during work hours. The average speed by weekday follows an expected trend. Over the weekend (Friday, Saturday, Sunday) the average speed picks up quite nicely, indicating less traffic. Finally, the average trip speed by month follows an expected trend. In the winter months there are less trips (see the previous timeseries plot we made) indicating less traffic in general in the city which means you can average a higher speed on the roads.\n",
        "\n",
        "\n",
        "This next part uses the pick-up locations and the average speed data we've got and plots the average speed by location."
      ],
      "metadata": {
        "id": "x6bxAWyX66Xw"
      }
    },
    {
      "cell_type": "code",
      "source": [
        "# np.random - Round an array to the given number of decimals.\n",
        "train.loc[:, 'pickup_lat_bin'] = np.round(train['pickup_latitude'], 3)\n",
        "train.loc[:, 'pickup_long_bin'] = np.round(train['pickup_longitude'], 3)\n",
        "# Average speed for regions\n",
        "gby_cols = ['pickup_lat_bin', 'pickup_long_bin']\n",
        "coord_speed = train.groupby(gby_cols).mean()[['avg_speed_h']].reset_index()\n",
        "coord_count = train.groupby(gby_cols).count()[['id']].reset_index()\n",
        "coord_stats = pd.merge(coord_speed, coord_count, on=gby_cols) # Merge DataFrame or named Series objects with a database-style join.\n",
        "coord_stats = coord_stats[coord_stats['id'] > 100]\n",
        "fig, ax = plt.subplots(ncols=1, nrows=1)\n",
        "ax.scatter(train.pickup_longitude.values[:500000], train.pickup_latitude.values[:500000], color='black', s=1, alpha=0.5)\n",
        "ax.scatter(coord_stats.pickup_long_bin.values, coord_stats.pickup_lat_bin.values, c=coord_stats.avg_speed_h.values,\n",
        "           cmap='RdYlGn', s=20, alpha=0.5, vmin=1, vmax=8)\n",
        "ax.set_xlim(city_long_border)\n",
        "ax.set_ylim(city_lat_border)\n",
        "ax.set_xlabel('Longitude')\n",
        "ax.set_ylabel('Latitude')\n",
        "plt.title('Average speed')\n",
        "plt.show()"
      ],
      "metadata": {
        "colab": {
          "base_uri": "https://localhost:8080/",
          "height": 295
        },
        "id": "-J-Be2eSCn_J",
        "outputId": "51677666-d4eb-458b-b8ef-72b4a2844059"
      },
      "execution_count": null,
      "outputs": [
        {
          "output_type": "display_data",
          "data": {
            "text/plain": [
              "<Figure size 432x288 with 1 Axes>"
            ],
            "image/png": "[encoded data removed]"
          },
          "metadata": {
            "needs_background": "light"
          }
        }
      ]
    },
    {
      "cell_type": "markdown",
      "source": [
        "###### So clearly, by neighbourhood, the average speed definitely changes. To a greater extent the center of the city is the busiest (we'd expect this since the majority of activity in large cities is focused around the center) and the average speed picks up nicely around the outskirts.\n",
        "\n",
        "\n",
        "We can expect good performance from our clustering data during modelling just from looking at how well we can distinguish average speeds by neighbourhood (i.e. cluster). Something definitely worth exploring, which could boost the performance of the XGBoost model significantly, is to create a data set that can be used with [Xiaolin Wu's line algorithm](https://en.m.wikipedia.org/wiki/Xiaolin_Wu%27s_line_algorithm \"Xiaolin Wu's line algorithm\"). This would involve pixelating the graph area and recording every pixel crossed by the line from the pick-up location to the drop-off location. If you can make the resolution as high as possible some of the pixels shoudl encapsulate traffic junctions, traffic lights, bridges, etc. Using the \"has crossed coordinate X\" features one could potentially create an extra +-10 000 features to train the alogrithm with.\n"
      ],
      "metadata": {
        "id": "x-gjMw6I7SrQ"
      }
    },
    {
      "cell_type": "markdown",
      "source": [
        "### Data Enrichment\n",
        "### Data is not found, so only write the code without running."
      ],
      "metadata": {
        "id": "9tdDpcEl_RqH"
      }
    },
    {
      "cell_type": "code",
      "source": [
        "fr1 = pd.read_csv('../input/new-york-city-taxi-with-osrm/fastest_routes_train_part_1.csv', usecols=['id', 'total_distance', 'total_travel_time',  'number_of_steps'])\n",
        "fr2 = pd.read_csv('../input/new-york-city-taxi-with-osrm/fastest_routes_train_part_2.csv', usecols=['id', 'total_distance', 'total_travel_time', 'number_of_steps'])\n",
        "test_street_info = pd.read_csv('../input/new-york-city-taxi-with-osrm/fastest_routes_test.csv',\n",
        "                               usecols=['id', 'total_distance', 'total_travel_time', 'number_of_steps'])\n",
        "train_street_info = pd.concat((fr1, fr2)) # Concatenate pandas objects along a particular axis with optional set logic along the other axes.\n",
        "# The merge () method updates the content of two DataFrame by merging them together, using the specified method (s).\n",
        "train = train.merge(train_street_info, how='left', on='id')\n",
        "test = test.merge(test_street_info, how='left', on='id')"
      ],
      "metadata": {
        "id": "0ifZE5E7_sCA"
      },
      "execution_count": null,
      "outputs": []
    },
    {
      "cell_type": "code",
      "source": [
        "train.shape, test.shape # Return a tuple representing the dimensionality of the DataFrame."
      ],
      "metadata": {
        "id": "Pq5x8-eiEgqs"
      },
      "execution_count": null,
      "outputs": []
    },
    {
      "cell_type": "markdown",
      "source": [
        "###### Strictly speaking we don't need to check the content/shape of the data, but for sanity we can check what the test and training data sets look like. The output makes sence: The columns that the train dataset has that test doesn't is now: `dropoff_datetime`, `avg_speed_m`, `avg_speed_h`, `pickup_lat_bin`, and `pickup_long_bin` (apart from `trip_duration`).\n",
        "\n",
        "\n",
        "Now for the scary part (not really): Creating the dummy variables."
      ],
      "metadata": {
        "id": "hShYEaICExTa"
      }
    },
    {
      "cell_type": "markdown",
      "source": [
        "###  Creating Dummy Variables\n",
        "###### So for this step we get to the one hot encoding we spoke of earlier. Generally speaking you can do this in a few ways, but luckily Pandas helps us out again. A simple function that changes categorical data into dummy/indicator variables."
      ],
      "metadata": {
        "id": "fKtSHAzKFFUs"
      }
    },
    {
      "cell_type": "code",
      "source": [
        "# pd.get_dummies - Convert categorical variable into dummy/indicator variables.\n",
        "# prefix - String to append DataFrame column names.\n",
        "# If appending prefix, separator/delimiter to use. Or pass a list or dictionary as with prefix.\n",
        "vendor_train = pd.get_dummies(train['vendor_id'], prefix='vi', prefix_sep='_')\n",
        "vendor_test = pd.get_dummies(test['vendor_id'], prefix='vi', prefix_sep='_')\n",
        "passenger_count_train = pd.get_dummies(train['passenger_count'], prefix='pc', prefix_sep='_')\n",
        "passenger_count_test = pd.get_dummies(test['passenger_count'], prefix='pc', prefix_sep='_')\n",
        "store_and_fwd_flag_train = pd.get_dummies(train['store_and_fwd_flag'], prefix='sf', prefix_sep='_')\n",
        "store_and_fwd_flag_test = pd.get_dummies(test['store_and_fwd_flag'], prefix='sf', prefix_sep='_')\n",
        "cluster_pickup_train = pd.get_dummies(train['pickup_cluster'], prefix='p', prefix_sep='_')\n",
        "cluster_pickup_test = pd.get_dummies(test['pickup_cluster'], prefix='p', prefix_sep='_')\n",
        "cluster_dropoff_train = pd.get_dummies(train['dropoff_cluster'], prefix='d', prefix_sep='_')\n",
        "cluster_dropoff_test = pd.get_dummies(test['dropoff_cluster'], prefix='d', prefix_sep='_')\n",
        "\n",
        "month_train = pd.get_dummies(train['Month'], prefix='m', prefix_sep='_')\n",
        "month_test = pd.get_dummies(test['Month'], prefix='m', prefix_sep='_')\n",
        "dom_train = pd.get_dummies(train['DayofMonth'], prefix='dom', prefix_sep='_')\n",
        "dom_test = pd.get_dummies(test['DayofMonth'], prefix='dom', prefix_sep='_')\n",
        "hour_train = pd.get_dummies(train['Hour'], prefix='h', prefix_sep='_')\n",
        "hour_test = pd.get_dummies(test['Hour'], prefix='h', prefix_sep='_')\n",
        "dow_train = pd.get_dummies(train['dayofweek'], prefix='dow', prefix_sep='_')\n",
        "dow_test = pd.get_dummies(test['dayofweek'], prefix='dow', prefix_sep='_')"
      ],
      "metadata": {
        "id": "2kmzog53FVF-"
      },
      "execution_count": null,
      "outputs": []
    },
    {
      "cell_type": "markdown",
      "source": [
        "###### We do need to check the output though (never fully trust functions without testing it)."
      ],
      "metadata": {
        "id": "YWjokeghF7kh"
      }
    },
    {
      "cell_type": "code",
      "source": [
        "vendor_train.shape,vendor_test.shape"
      ],
      "metadata": {
        "id": "EP_VdEntF-FL"
      },
      "execution_count": null,
      "outputs": []
    },
    {
      "cell_type": "code",
      "source": [
        "passenger_count_train.shape,passenger_count_test.shape"
      ],
      "metadata": {
        "id": "PgspxOvLGB1O"
      },
      "execution_count": null,
      "outputs": []
    },
    {
      "cell_type": "code",
      "source": [
        "store_and_fwd_flag_train.shape,store_and_fwd_flag_test.shape"
      ],
      "metadata": {
        "id": "8-tDUC3FGEb3"
      },
      "execution_count": null,
      "outputs": []
    },
    {
      "cell_type": "code",
      "source": [
        "cluster_pickup_train.shape,cluster_pickup_test.shape"
      ],
      "metadata": {
        "id": "xa3eOhSOGGeE"
      },
      "execution_count": null,
      "outputs": []
    },
    {
      "cell_type": "code",
      "source": [
        "cluster_dropoff_train.shape,cluster_dropoff_test.shape"
      ],
      "metadata": {
        "id": "gJCYdGGKGH-M"
      },
      "execution_count": null,
      "outputs": []
    },
    {
      "cell_type": "code",
      "source": [
        "month_train.shape,month_test.shape"
      ],
      "metadata": {
        "id": "oksR8Fx8GJ8P"
      },
      "execution_count": null,
      "outputs": []
    },
    {
      "cell_type": "code",
      "source": [
        "dom_train.shape,dom_test.shape"
      ],
      "metadata": {
        "id": "Lipp-rymGLcz"
      },
      "execution_count": null,
      "outputs": []
    },
    {
      "cell_type": "code",
      "source": [
        "hour_train.shape,hour_test.shape"
      ],
      "metadata": {
        "id": "EdtYk5WRGM_m"
      },
      "execution_count": null,
      "outputs": []
    },
    {
      "cell_type": "code",
      "source": [
        "dow_train.shape,dow_test.shape"
      ],
      "metadata": {
        "id": "9ukEO4QpGPd1"
      },
      "execution_count": null,
      "outputs": []
    },
    {
      "cell_type": "code",
      "source": [
        "passenger_count_test = passenger_count_test.drop('pc_9', axis = 1)"
      ],
      "metadata": {
        "id": "dg78RwOSGgse"
      },
      "execution_count": null,
      "outputs": []
    },
    {
      "cell_type": "code",
      "source": [
        "train = train.drop(['id','vendor_id','passenger_count','store_and_fwd_flag','Month','DayofMonth','Hour','dayofweek',\n",
        "                   'pickup_longitude','pickup_latitude','dropoff_longitude','dropoff_latitude'],axis = 1)\n",
        "Test_id = test['id']\n",
        "test = test.drop(['id','vendor_id','passenger_count','store_and_fwd_flag','Month','DayofMonth','Hour','dayofweek',\n",
        "                   'pickup_longitude','pickup_latitude','dropoff_longitude','dropoff_latitude'], axis = 1)\n",
        "\n",
        "train = train.drop(['dropoff_datetime','avg_speed_h','avg_speed_m','pickup_lat_bin','pickup_long_bin','trip_duration'], axis = 1)"
      ],
      "metadata": {
        "id": "1qKuV5VxGpkl"
      },
      "execution_count": null,
      "outputs": []
    },
    {
      "cell_type": "markdown",
      "source": [
        "###### Let's check what's left after dropping our categorical variables."
      ],
      "metadata": {
        "id": "eFZW_eG0GtAJ"
      }
    },
    {
      "cell_type": "code",
      "source": [
        "train.shape,test.shape"
      ],
      "metadata": {
        "id": "G-xHlWRwGxlG"
      },
      "execution_count": null,
      "outputs": []
    },
    {
      "cell_type": "markdown",
      "source": [
        "###### Now let's add the indicator variables to our datasets."
      ],
      "metadata": {
        "id": "Xc4orPm_G0A0"
      }
    },
    {
      "cell_type": "code",
      "source": [
        "Train_Master = pd.concat([train,\n",
        "                          vendor_train,\n",
        "                          passenger_count_train,\n",
        "                          store_and_fwd_flag_train,\n",
        "                          cluster_pickup_train,\n",
        "                          cluster_dropoff_train,\n",
        "                         month_train,\n",
        "                         dom_train,\n",
        "                          hour_test,\n",
        "                          dow_train\n",
        "                         ], axis=1)"
      ],
      "metadata": {
        "id": "LQh293OLG2um"
      },
      "execution_count": null,
      "outputs": []
    },
    {
      "cell_type": "code",
      "source": [
        "Test_master = pd.concat([test, \n",
        "                         vendor_test,\n",
        "                         passenger_count_test,\n",
        "                         store_and_fwd_flag_test,\n",
        "                         cluster_pickup_test,\n",
        "                         cluster_dropoff_test,\n",
        "                         month_test,\n",
        "                         dom_test,\n",
        "                          hour_test,\n",
        "                          dow_test], axis=1)"
      ],
      "metadata": {
        "id": "CceRQBerG59S"
      },
      "execution_count": null,
      "outputs": []
    },
    {
      "cell_type": "code",
      "source": [
        "Train_Master.shape,Test_master.shape"
      ],
      "metadata": {
        "id": "xV7RCUnsG8RX"
      },
      "execution_count": null,
      "outputs": []
    },
    {
      "cell_type": "markdown",
      "source": [
        "###### There're two more columns we can drop because we keep the information from those two columns in other variables: `pickup_datetime` and `pickup_date`."
      ],
      "metadata": {
        "id": "4Emx_qRPHAl6"
      }
    },
    {
      "cell_type": "code",
      "source": [
        "Train_Master = Train_Master.drop(['pickup_datetime','pickup_date'],axis = 1)\n",
        "Test_master = Test_master.drop(['pickup_datetime','pickup_date'],axis = 1)"
      ],
      "metadata": {
        "id": "O6QoYnokHDUp"
      },
      "execution_count": null,
      "outputs": []
    },
    {
      "cell_type": "markdown",
      "source": [
        "###### One more sense check."
      ],
      "metadata": {
        "id": "aQD-k01tHFjB"
      }
    },
    {
      "cell_type": "code",
      "source": [
        "Train_Master.shape,Test_master.shape"
      ],
      "metadata": {
        "id": "QahQw5PmHHcK"
      },
      "execution_count": null,
      "outputs": []
    },
    {
      "cell_type": "markdown",
      "source": [
        "###### This is exactly what we're expecting to see. The training set should have one more column than the test set, since it contains our target variable (which the test set doesn't). The next step is to split the training set into sub-training and sub-testing sets. The reason for this is to be able to tweak model parameters to increase accuracy (i.e. decrease the root mean square error [RSME] value) without creating bias towards the test set. Also, and perhaps more importantly, is that we need a validation set to use with XGBoost. So the XGBoost algorithm takes three datasets: a training set, a test set, and a validation set. The validation set is used to continuously evaluate the accuracy of the training model, and finally the model is used to make predictions against the test set. So splitting out the training set into a separate train and test set gives us a test sample of which we know the outcome variables. Makes sense, right?\n",
        "\n",
        "\n",
        "For the sake of this tutorial we'll stick to 100 000 data points, this just makes the training process faster and a little less cumbersome to work with. Also, we'll split the training set into a 80-20 train and test set. So from this, there are two things you can do: change the ratios by which you split the original training set (`Train_Master`), e.g. use a 70-30 ratio and see what the results are. Also, you can include all the data points instead of just 100k. This should also have quite a siginficant effect on the outcome.\n",
        "\n"
      ],
      "metadata": {
        "id": "_T88y96WHW1Z"
      }
    },
    {
      "cell_type": "code",
      "source": [
        "Train, Test = train_test_split(Train_Master[0:100000], test_size = 0.2)"
      ],
      "metadata": {
        "id": "O4pPUURaHZr1"
      },
      "execution_count": null,
      "outputs": []
    },
    {
      "cell_type": "markdown",
      "source": [
        "###### Some additional steps are required for us to use these datasets. One thing is to drop the `log_trip_duration` features (this is merely a log transform of one of the features, so it's signficance will remain the same as when it isn't transformed). Also, we can drop our original index and reset it, to make sure we can reference the rows accurately if needed."
      ],
      "metadata": {
        "id": "x0kUHs6pHnSZ"
      }
    },
    {
      "cell_type": "code",
      "source": [
        "X_train = Train.drop(['log_trip_duration'], axis=1)\n",
        "Y_train = Train[\"log_trip_duration\"]\n",
        "X_test = Test.drop(['log_trip_duration'], axis=1)\n",
        "Y_test = Test[\"log_trip_duration\"]\n",
        "\n",
        "Y_test = Y_test.reset_index().drop('index',axis = 1)\n",
        "Y_train = Y_train.reset_index().drop('index',axis = 1)"
      ],
      "metadata": {
        "id": "RJU0DeKIHqvN"
      },
      "execution_count": null,
      "outputs": []
    },
    {
      "cell_type": "markdown",
      "source": [
        "###### One more step and it really is time to start training: We need to create the XGBoost matrices that will be used to train the model using XGBoost. Note that we use the newly created test and train sets as our model training inputs (for train and validation) and finally use the master test set to make our predictions.**bold text**"
      ],
      "metadata": {
        "id": "hu26ku42IDkE"
      }
    },
    {
      "cell_type": "code",
      "source": [
        "dtrain = xgb.DMatrix(X_train, label=Y_train)\n",
        "dvalid = xgb.DMatrix(X_test, label=Y_test)\n",
        "dtest = xgb.DMatrix(Test_master)\n",
        "watchlist = [(dtrain, 'train'), (dvalid, 'valid')]"
      ],
      "metadata": {
        "id": "FnqXtLqXIFNn"
      },
      "execution_count": null,
      "outputs": []
    },
    {
      "cell_type": "markdown",
      "source": [
        "###### Finally! We're ready to use XGBoost. You'll notice that this part is actually quite short. But only in code. It can take quite a while to itterate through the different parameters and different values of these parameters to better the outcome of the model. Let's see what's next."
      ],
      "metadata": {
        "id": "RHsOZ2ozIRxK"
      }
    },
    {
      "cell_type": "markdown",
      "source": [
        "### XGBoost - Training the Model and Testing the Accuracy"
      ],
      "metadata": {
        "id": "ff_3Xf-ZIXE6"
      }
    },
    {
      "cell_type": "code",
      "source": [
        "#md = [6]\n",
        "#lr = [0.1,0.3]\n",
        "#mcw = [20,25,30]\n",
        "#for m in md:\n",
        "#    for l in lr:\n",
        "#        for n in mcw:\n",
        "#            t0 = datetime.now()\n",
        "#            xgb_pars = {'min_child_weight': mcw, 'eta': lr, 'colsample_bytree': 0.9, \n",
        "#                        'max_depth': md,\n",
        "#            'subsample': 0.9, 'lambda': 1., 'nthread': -1, 'booster' : 'gbtree', 'silent': 1,\n",
        "#            'eval_metric': 'rmse', 'objective': 'reg:linear'}\n",
        "#            model = xgb.train(xgb_pars, dtrain, 50, watchlist, early_stopping_rounds=10,\n",
        "#                  maximize=False, verbose_eval=1)"
      ],
      "metadata": {
        "id": "QFgI4LYJJCEm"
      },
      "execution_count": null,
      "outputs": []
    },
    {
      "cell_type": "markdown",
      "source": [
        "###### Here is one for the fork's. I do recomend you trying to play with these metrics though..."
      ],
      "metadata": {
        "id": "uX51D2V3JUfL"
      }
    },
    {
      "cell_type": "code",
      "source": [
        "xgb_pars = {'min_child_weight': 1, 'eta': 0.5, 'colsample_bytree': 0.9, \n",
        "            'max_depth': 6,\n",
        "'subsample': 0.9, 'lambda': 1., 'nthread': -1, 'booster' : 'gbtree', 'silent': 1,\n",
        "'eval_metric': 'rmse', 'objective': 'reg:linear'}\n",
        "model = xgb.train(xgb_pars, dtrain, 10, watchlist, early_stopping_rounds=2,\n",
        "      maximize=False, verbose_eval=1)\n",
        "print('Modeling RMSLE %.5f' % model.best_score)"
      ],
      "metadata": {
        "id": "MEk8PmoFJYTH"
      },
      "execution_count": null,
      "outputs": []
    },
    {
      "cell_type": "markdown",
      "source": [
        "###### Of course, what type of tutorial would this be if I didn't give some ideas about where to twea the model? Here are some steps I suggest you follow:\n",
        "\n",
        "a) Make it more than 10 iterations before stopping.\n",
        "b) Lower the eta-value.\n",
        "c) Increase the max depth.\n",
        "Be very careful though, there is such a thing as overfitting. I.e. training your model so well on the training set that it performs quite poorly on unseen data. Here I would suggest playing with `colsample_bytree` and `subsample` to control overfitting.\n",
        "\n",
        "\n",
        "Out of interest, we can investigate the importance of each feature, to understand what affects the trip duration the most significantly. Here's how XGBoost allows us to do it:"
      ],
      "metadata": {
        "id": "K7Kd_tajJlyB"
      }
    },
    {
      "cell_type": "code",
      "source": [
        "xgb.plot_importance(model, max_num_features=28, height=0.7)"
      ],
      "metadata": {
        "id": "0xA9FS4jJs3k"
      },
      "execution_count": null,
      "outputs": []
    },
    {
      "cell_type": "markdown",
      "source": [
        "###### The final step before submission is to make our predictions using the trained model:"
      ],
      "metadata": {
        "id": "Vlt3ixOZJyw9"
      }
    },
    {
      "cell_type": "code",
      "source": [
        "pred = model.predict(dtest)\n",
        "pred = np.exp(pred) - 1 # np exp - used to find the exponential values of all the elements present in the input array. "
      ],
      "metadata": {
        "id": "Wb5k-eGLJ1Vm"
      },
      "execution_count": null,
      "outputs": []
    },
    {
      "cell_type": "markdown",
      "source": [
        "###### Time for Submission"
      ],
      "metadata": {
        "id": "eNHOp59rJ4eW"
      }
    },
    {
      "cell_type": "code",
      "source": [
        "submission = pd.concat([Test_id, pd.DataFrame(pred)], axis=1)\n",
        "submission.columns = ['id','trip_duration']\n",
        "# .apply - Apply a function along an axis of the DataFrame.\n",
        "# axis = 1 - 1 or ‘columns’: apply function to each row.\n",
        "submission['trip_duration'] = submission.apply(lambda x : 1 if (x['trip_duration'] <= 0) else x['trip_duration'], axis = 1)\n",
        "submission.to_csv(\"submission.csv\", index=False)"
      ],
      "metadata": {
        "id": "OQ3vkeayJ68l"
      },
      "execution_count": null,
      "outputs": []
    },
    {
      "cell_type": "markdown",
      "source": [
        "###### Reference : https://www.kaggle.com/code/karelrv/nyct-from-a-to-z-with-xgboost-tutorial/notebook"
      ],
      "metadata": {
        "id": "_cbgUHgpLzbQ"
      }
    }
  ]
}