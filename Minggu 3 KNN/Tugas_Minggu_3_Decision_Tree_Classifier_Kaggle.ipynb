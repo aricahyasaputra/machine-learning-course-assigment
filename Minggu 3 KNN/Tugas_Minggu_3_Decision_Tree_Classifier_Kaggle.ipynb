{
  "nbformat": 4,
  "nbformat_minor": 0,
  "metadata": {
    "colab": {
      "name": "Tugas_Minggu_3_Decision-Tree_Classifier_Kaggle.ipynb",
      "provenance": [],
      "authorship_tag": "ABX9TyMh+eVLsXIbXRd3iJHM6Ele",
      "include_colab_link": true
    },
    "kernelspec": {
      "name": "python3",
      "display_name": "Python 3"
    },
    "language_info": {
      "name": "python"
    }
  },
  "cells": [
    {
      "cell_type": "markdown",
      "metadata": {
        "id": "view-in-github",
        "colab_type": "text"
      },
      "source": [
        "<a href=\"https://colab.research.google.com/github/aricahyasaputra/machine-learning-course-assigment/blob/main/Minggu%203%20KNN/Tugas_Minggu_3_Decision_Tree_Classifier_Kaggle.ipynb\" target=\"_parent\"><img src=\"https://colab.research.google.com/assets/colab-badge.svg\" alt=\"Open In Colab\"/></a>"
      ]
    },
    {
      "cell_type": "markdown",
      "source": [
        "\n",
        "\n",
        "Nama : Ari Cahya Saputra\n",
        "\n",
        "NIM : 1103190093\n",
        "\n",
        "Kelas : TK-42-PIL\n",
        "\n",
        "Untuk dataset yang saya gunakan saya mendapatkannya dari keaggle yaitu [Car Evaluation Data Set](https://www.kaggle.com/code/prashant111/decision-tree-classifier-tutorial/data)\n"
      ],
      "metadata": {
        "id": "dBFTu9axfemL"
      }
    },
    {
      "cell_type": "markdown",
      "source": [
        "#Decision Tree Classifier Tutorial with Python"
      ],
      "metadata": {
        "id": "6QvUNtalf07l"
      }
    },
    {
      "cell_type": "markdown",
      "source": [
        "In this kernel, I build a Decision Tree Classifier to predict the safety of the car. I build two models, one with criterion `gini index` and another one with criterion `entropy`. I implement Decision Tree Classification with Python and Scikit-Learn."
      ],
      "metadata": {
        "id": "eecPQrRkf2SD"
      }
    },
    {
      "cell_type": "markdown",
      "source": [
        "##Import libraries"
      ],
      "metadata": {
        "id": "O1uXEq23gB1V"
      }
    },
    {
      "cell_type": "code",
      "execution_count": null,
      "metadata": {
        "id": "WGGL4GWDe21I"
      },
      "outputs": [],
      "source": [
        "\n",
        "\n",
        "# This Python 3 environment comes with many helpful analytics libraries installed\n",
        "# It is defined by the kaggle/python docker image: https://github.com/kaggle/docker-python\n",
        "# For example, here's several helpful packages to load in \n",
        "\n",
        "import numpy as np # linear algebra\n",
        "import pandas as pd # data processing, CSV file I/O (e.g. pd.read_csv)\n",
        "import matplotlib.pyplot as plt # data visualization\n",
        "import seaborn as sns # statistical data visualization\n",
        "%matplotlib inline\n",
        "\n",
        "# Input data files are available in the \"../input/\" directory.\n",
        "# For example, running this (by clicking run or pressing Shift+Enter) will list all files under the input directory\n",
        "\n",
        "import os\n",
        "for dirname, _, filenames in os.walk('/kaggle/input'):\n",
        "    for filename in filenames:\n",
        "        print(os.path.join(dirname, filename))\n",
        "\n",
        "# Any results you write to the current directory are saved as output.\n",
        "\n"
      ]
    },
    {
      "cell_type": "markdown",
      "source": [
        ""
      ],
      "metadata": {
        "id": "CKaHyLdzgEbx"
      }
    }
  ]
}