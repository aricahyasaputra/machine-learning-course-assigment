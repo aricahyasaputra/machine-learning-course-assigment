{
  "nbformat": 4,
  "nbformat_minor": 0,
  "metadata": {
    "colab": {
      "name": "Tugas Minggu 8 Support Vector Machines Scikit Learn.ipynb",
      "provenance": [],
      "collapsed_sections": [],
      "authorship_tag": "ABX9TyPtM/IOmKab+PulcB3ch/4b",
      "include_colab_link": true
    },
    "kernelspec": {
      "name": "python3",
      "display_name": "Python 3"
    },
    "language_info": {
      "name": "python"
    }
  },
  "cells": [
    {
      "cell_type": "markdown",
      "metadata": {
        "id": "view-in-github",
        "colab_type": "text"
      },
      "source": [
        "<a href=\"https://colab.research.google.com/github/aricahyasaputra/machine-learning-course-assigment/blob/main/Minggu%208%20Support%20Vector%20Machines/Tugas_Minggu_8_Support_Vector_Machines_Scikit_Learn.ipynb\" target=\"_parent\"><img src=\"https://colab.research.google.com/assets/colab-badge.svg\" alt=\"Open In Colab\"/></a>"
      ]
    },
    {
      "cell_type": "markdown",
      "source": [
        "#Support Vector Machines"
      ],
      "metadata": {
        "id": "0sBIG7Iunf3b"
      }
    },
    {
      "cell_type": "markdown",
      "source": [
        "**Support vector machines (SVMs)** are a set of supervised learning methods used for classification, regression and outliers detection.\n",
        "\n",
        "The advantages of support vector machines are:\n",
        "*   Effective in high dimensional spaces.\n",
        "*   Still effective in cases where number of dimensions is greater than the number of samples.\n",
        "*   Uses a subset of training points in the decision function (called support vectors), so it is also memory efficient.\n",
        "*   Versatile: different Kernel functions can be specified for the decision function. Common kernels are provided, but it is also possible to specify custom kernels.\n",
        "\n",
        "The disadvantages of support vector machines include:\n",
        "\n",
        "*   If the number of features is much greater than the number of samples, avoid over-fitting in choosing Kernel functions and regularization term is crucial.\n",
        "\n",
        "*   SVMs do not directly provide probability estimates, these are calculated using an expensive five-fold cross-validation (see Scores and probabilities, below)."
      ],
      "metadata": {
        "id": "FSmAZdKCnoOw"
      }
    },
    {
      "cell_type": "markdown",
      "source": [
        "##Classification"
      ],
      "metadata": {
        "id": "Wu-Hsso4oy8r"
      }
    },
    {
      "cell_type": "markdown",
      "source": [
        "SVC, NuSVC and LinearSVC are classes capable of performing binary and multi-class classification on a dataset.\n",
        "\n",
        "As other classifiers, SVC, NuSVC and LinearSVC take as input two arrays: an array X of shape (n_samples, n_features) holding the training samples, and an array y of class labels (strings or integers), of shape (n_samples):"
      ],
      "metadata": {
        "id": "dNLtOCWpo5mW"
      }
    },
    {
      "cell_type": "code",
      "execution_count": 9,
      "metadata": {
        "colab": {
          "base_uri": "https://localhost:8080/"
        },
        "id": "IrGITat6nTDk",
        "outputId": "cd659684-2565-4fcd-bd74-201fac91254d"
      },
      "outputs": [
        {
          "output_type": "execute_result",
          "data": {
            "text/plain": [
              "SVC()"
            ]
          },
          "metadata": {},
          "execution_count": 9
        }
      ],
      "source": [
        "from sklearn import svm\n",
        "X = [[0, 0], [1, 1]]\n",
        "y = [0, 1]\n",
        "clf = svm.SVC()\n",
        "clf.fit(X, y)"
      ]
    },
    {
      "cell_type": "markdown",
      "source": [
        "After being fitted, the model can then be used to predict new values:"
      ],
      "metadata": {
        "id": "Bm7ZPocqpUmR"
      }
    },
    {
      "cell_type": "code",
      "source": [
        "clf.predict([[2., 2.]])"
      ],
      "metadata": {
        "colab": {
          "base_uri": "https://localhost:8080/"
        },
        "id": "L-udXrVRpWy7",
        "outputId": "01089f26-24d6-4f06-f8d6-fce9d3ac62a6"
      },
      "execution_count": 10,
      "outputs": [
        {
          "output_type": "execute_result",
          "data": {
            "text/plain": [
              "array([1])"
            ]
          },
          "metadata": {},
          "execution_count": 10
        }
      ]
    },
    {
      "cell_type": "markdown",
      "source": [
        "SVMs decision function (detailed in the Mathematical formulation) depends on some subset of the training data, called the support vectors. Some properties of these support vectors can be found in attributes support_vectors_, support_ and n_support_:"
      ],
      "metadata": {
        "id": "5OvIAVS0paAR"
      }
    },
    {
      "cell_type": "code",
      "source": [
        "# get support vectors\n",
        "clf.support_vectors_"
      ],
      "metadata": {
        "colab": {
          "base_uri": "https://localhost:8080/"
        },
        "id": "WX36RkUFpbIp",
        "outputId": "3c135c5e-2a41-4ef0-ab54-882ef7bd5734"
      },
      "execution_count": 11,
      "outputs": [
        {
          "output_type": "execute_result",
          "data": {
            "text/plain": [
              "array([[0., 0.],\n",
              "       [1., 1.]])"
            ]
          },
          "metadata": {},
          "execution_count": 11
        }
      ]
    },
    {
      "cell_type": "code",
      "source": [
        "# get indices of support vectors\n",
        "clf.support_"
      ],
      "metadata": {
        "colab": {
          "base_uri": "https://localhost:8080/"
        },
        "id": "e5lVmNH-qHEw",
        "outputId": "e16546f2-971d-449e-b158-a8b7b6b98412"
      },
      "execution_count": 12,
      "outputs": [
        {
          "output_type": "execute_result",
          "data": {
            "text/plain": [
              "array([0, 1], dtype=int32)"
            ]
          },
          "metadata": {},
          "execution_count": 12
        }
      ]
    },
    {
      "cell_type": "code",
      "source": [
        "# get number of support vectors for each class\n",
        "clf.n_support_"
      ],
      "metadata": {
        "colab": {
          "base_uri": "https://localhost:8080/"
        },
        "id": "Lpbd7x8TqJIp",
        "outputId": "d27f1eb3-46e6-4e90-b61c-41a38c93b4c2"
      },
      "execution_count": 13,
      "outputs": [
        {
          "output_type": "execute_result",
          "data": {
            "text/plain": [
              "array([1, 1], dtype=int32)"
            ]
          },
          "metadata": {},
          "execution_count": 13
        }
      ]
    },
    {
      "cell_type": "markdown",
      "source": [
        "##Multi-class classification"
      ],
      "metadata": {
        "id": "Pk0N0L91pqbj"
      }
    },
    {
      "cell_type": "markdown",
      "source": [
        "SVC and NuSVC implement the “one-versus-one” approach for multi-class classification. In total, n_classes * (n_classes - 1) / 2 classifiers are constructed and each one trains data from two classes. To provide a consistent interface with other classifiers, the decision_function_shape option allows to monotonically transform the results of the “one-versus-one” classifiers to a “one-vs-rest” decision function of shape (n_samples, n_classes)."
      ],
      "metadata": {
        "id": "D31L_72-pub-"
      }
    },
    {
      "cell_type": "code",
      "source": [
        "X = [[0], [1], [2], [3]]\n",
        "Y = [0, 1, 2, 3]\n",
        "clf = svm.SVC(decision_function_shape='ovo')\n",
        "clf.fit(X, Y)\n",
        "dec = clf.decision_function([[1]])\n",
        "dec.shape[1] # 4 classes: 4*3/2 = 6"
      ],
      "metadata": {
        "colab": {
          "base_uri": "https://localhost:8080/"
        },
        "id": "VpYiNjdtpwtS",
        "outputId": "6a51b7a0-b744-4a69-a912-85040eef64b0"
      },
      "execution_count": 14,
      "outputs": [
        {
          "output_type": "execute_result",
          "data": {
            "text/plain": [
              "6"
            ]
          },
          "metadata": {},
          "execution_count": 14
        }
      ]
    },
    {
      "cell_type": "code",
      "source": [
        "clf.decision_function_shape = \"ovr\"\n",
        "dec = clf.decision_function([[1]])\n",
        "dec.shape[1] # 4 classes"
      ],
      "metadata": {
        "colab": {
          "base_uri": "https://localhost:8080/"
        },
        "id": "ZMh-eOmQp5jG",
        "outputId": "9ca012a9-c3f2-4946-cc4c-737ce4f0c9f3"
      },
      "execution_count": 15,
      "outputs": [
        {
          "output_type": "execute_result",
          "data": {
            "text/plain": [
              "4"
            ]
          },
          "metadata": {},
          "execution_count": 15
        }
      ]
    },
    {
      "cell_type": "markdown",
      "source": [
        "On the other hand, LinearSVC implements “one-vs-the-rest” multi-class strategy, thus training n_classes models."
      ],
      "metadata": {
        "id": "yLTaTa-mqAw5"
      }
    },
    {
      "cell_type": "markdown",
      "source": [
        "##Scores and probabilities"
      ],
      "metadata": {
        "id": "AIHHxUmGqVka"
      }
    },
    {
      "cell_type": "markdown",
      "source": [
        "The decision_function method of SVC and NuSVC gives per-class scores for each sample (or a single score per sample in the binary case). When the constructor option probability is set to True, class membership probability estimates (from the methods predict_proba and predict_log_proba) are enabled. In the binary case, the probabilities are calibrated using Platt scaling 9: logistic regression on the SVM’s scores, fit by an additional cross-validation on the training data. In the multiclass case, this is extended as per 10."
      ],
      "metadata": {
        "id": "WfV_8AfEqY97"
      }
    },
    {
      "cell_type": "markdown",
      "source": [
        "##Unbalanced problems"
      ],
      "metadata": {
        "id": "DCtgh7zRqdUW"
      }
    },
    {
      "cell_type": "markdown",
      "source": [
        "n problems where it is desired to give more importance to certain classes or certain individual samples, the parameters class_weight and sample_weight can be used.\n",
        "\n",
        "SVC (but not NuSVC) implements the parameter class_weight in the fit method. It’s a dictionary of the form {class_label : value}, where value is a floating point number > 0 that sets the parameter C of class class_label to C * value. The figure below illustrates the decision boundary of an unbalanced problem, with and without weight correction."
      ],
      "metadata": {
        "id": "5M70TzaVqmpk"
      }
    },
    {
      "cell_type": "markdown",
      "source": [
        "##Regression"
      ],
      "metadata": {
        "id": "bDwlGdxIqhDP"
      }
    },
    {
      "cell_type": "markdown",
      "source": [
        "The method of Support Vector Classification can be extended to solve regression problems. This method is called Support Vector Regression."
      ],
      "metadata": {
        "id": "I0jvGvfYqrUx"
      }
    },
    {
      "cell_type": "markdown",
      "source": [
        "As with classification classes, the fit method will take as argument vectors X, y, only that in this case y is expected to have floating point values instead of integer values:"
      ],
      "metadata": {
        "id": "C711m3XQqthj"
      }
    },
    {
      "cell_type": "code",
      "source": [
        "from sklearn import svm\n",
        "X = [[0, 0], [2, 2]]\n",
        "y = [0.5, 2.5]\n",
        "regr = svm.SVR()\n",
        "regr.fit(X, y)\n"
      ],
      "metadata": {
        "colab": {
          "base_uri": "https://localhost:8080/"
        },
        "id": "hhwM4A2vqvaB",
        "outputId": "c4c68c70-0d03-448b-f3e2-521e50750fed"
      },
      "execution_count": 17,
      "outputs": [
        {
          "output_type": "execute_result",
          "data": {
            "text/plain": [
              "SVR()"
            ]
          },
          "metadata": {},
          "execution_count": 17
        }
      ]
    },
    {
      "cell_type": "code",
      "source": [
        "regr.predict([[1, 1]])"
      ],
      "metadata": {
        "colab": {
          "base_uri": "https://localhost:8080/"
        },
        "id": "Zj_udL0kqweN",
        "outputId": "16bcd6a3-187d-428a-ef3d-6efe0d374a46"
      },
      "execution_count": 18,
      "outputs": [
        {
          "output_type": "execute_result",
          "data": {
            "text/plain": [
              "array([1.5])"
            ]
          },
          "metadata": {},
          "execution_count": 18
        }
      ]
    },
    {
      "cell_type": "markdown",
      "source": [
        "##Density estimation, novelty detection"
      ],
      "metadata": {
        "id": "Lrvikqzsq6vh"
      }
    },
    {
      "cell_type": "markdown",
      "source": [
        "The class OneClassSVM implements a One-Class SVM which is used in outlier detection.\n",
        "\n",
        "See Novelty and Outlier Detection for the description and usage of OneClassSVM."
      ],
      "metadata": {
        "id": "aRcy63xqq9xY"
      }
    },
    {
      "cell_type": "markdown",
      "source": [
        "##Complexity"
      ],
      "metadata": {
        "id": "ahboLi8oq_22"
      }
    },
    {
      "cell_type": "markdown",
      "source": [
        "For the linear case, the algorithm used in LinearSVC by the liblinear implementation is much more efficient than its libsvm-based SVC counterpart and can scale almost linearly to millions of samples and/or features."
      ],
      "metadata": {
        "id": "XNlG6Sb1rC85"
      }
    },
    {
      "cell_type": "markdown",
      "source": [
        "##Tips on Practical Use"
      ],
      "metadata": {
        "id": "9TMNgZz2rNFC"
      }
    },
    {
      "cell_type": "markdown",
      "source": [
        "*   Avoiding data copy\n",
        "*   Kernel cache size\n",
        "*   Setting C\n",
        "*   Support Vector Machine algorithms are not scale invariant, so it is highly recommended to scale your data. For example, scale each attribute on the input vector X to [0,1] or [-1,+1], or standardize it to have mean 0 and variance 1. Note that the same scaling must be applied to the test vector to obtain meaningful results. This can be done easily by using a Pipeline:"
      ],
      "metadata": {
        "id": "WDyQk7AYrP7O"
      }
    },
    {
      "cell_type": "code",
      "source": [
        "from sklearn.pipeline import make_pipeline\n",
        "from sklearn.preprocessing import StandardScaler\n",
        "from sklearn.svm import SVC\n",
        "\n",
        "clf = make_pipeline(StandardScaler(), SVC())"
      ],
      "metadata": {
        "id": "x6QkozdFrm68"
      },
      "execution_count": 19,
      "outputs": []
    },
    {
      "cell_type": "markdown",
      "source": [
        "*   Regarding the shrinking parameter, quoting 12: We found that if the number of iterations is large, then shrinking can shorten the training time. However, if we loosely solve the optimization problem (e.g., by using a large stopping tolerance), the code without using shrinking may be much faster\n",
        "*   Parameter nu in NuSVC/OneClassSVM/NuSVR approximates the fraction of training errors and support vectors.\n",
        "*   In SVC, if the data is unbalanced (e.g. many positive and few negative), set class_weight='balanced' and/or try different penalty parameters C.\n",
        "*   Randomness of the underlying implementations\n",
        "*   Using L1 penalization as provided by LinearSVC(penalty='l1', dual=False) yields a sparse solution, i.e. only a subset of feature weights is different from zero and contribute to the decision function. Increasing C yields a more complex model (more features are selected). The C value that yields a “null” model (all weights equal to zero) can be calculated using l1_min_c.\n"
      ],
      "metadata": {
        "id": "dJWPj1-_rsRH"
      }
    },
    {
      "cell_type": "markdown",
      "source": [
        "##Kernel functions"
      ],
      "metadata": {
        "id": "Wxb2MsAor9-p"
      }
    },
    {
      "cell_type": "markdown",
      "source": [
        "Different kernels are specified by the kernel parameter:"
      ],
      "metadata": {
        "id": "HzfN_kposCmi"
      }
    },
    {
      "cell_type": "code",
      "source": [
        "linear_svc = svm.SVC(kernel='linear')\n",
        "linear_svc.kernel"
      ],
      "metadata": {
        "colab": {
          "base_uri": "https://localhost:8080/",
          "height": 35
        },
        "id": "ZCpYA4EdsKri",
        "outputId": "035923de-bd64-4199-faa9-b91aaeb1863b"
      },
      "execution_count": 21,
      "outputs": [
        {
          "output_type": "execute_result",
          "data": {
            "text/plain": [
              "'linear'"
            ],
            "application/vnd.google.colaboratory.intrinsic+json": {
              "type": "string"
            }
          },
          "metadata": {},
          "execution_count": 21
        }
      ]
    },
    {
      "cell_type": "code",
      "source": [
        "rbf_svc = svm.SVC(kernel='rbf')\n",
        "rbf_svc.kernel"
      ],
      "metadata": {
        "colab": {
          "base_uri": "https://localhost:8080/",
          "height": 35
        },
        "id": "4bHe4HLdsLmT",
        "outputId": "c3ee818e-a44c-4a22-ca86-67faa6fca6bc"
      },
      "execution_count": 22,
      "outputs": [
        {
          "output_type": "execute_result",
          "data": {
            "text/plain": [
              "'rbf'"
            ],
            "application/vnd.google.colaboratory.intrinsic+json": {
              "type": "string"
            }
          },
          "metadata": {},
          "execution_count": 22
        }
      ]
    },
    {
      "cell_type": "markdown",
      "source": [
        "**Parameters of the RBF Kernel** : When training an SVM with the Radial Basis Function (RBF) kernel, two parameters must be considered: C and gamma. The parameter C, common to all SVM kernels, trades off misclassification of training examples against simplicity of the decision surface. A low C makes the decision surface smooth, while a high C aims at classifying all training examples correctly. gamma defines how much influence a single training example has. The larger gamma is, the closer other examples must be to be affected."
      ],
      "metadata": {
        "id": "pN-l6GbasYfe"
      }
    },
    {
      "cell_type": "markdown",
      "source": [
        "**Custom Kernels** : You can define your own kernels by either giving the kernel as a python function or by precomputing the Gram matrix."
      ],
      "metadata": {
        "id": "HT39sCzHsfRO"
      }
    },
    {
      "cell_type": "markdown",
      "source": [
        "Using Python functions as kernels"
      ],
      "metadata": {
        "id": "adEdFMa3sl43"
      }
    },
    {
      "cell_type": "markdown",
      "source": [
        "You can use your own defined kernels by passing a function to the kernel parameter.\n",
        "\n",
        "Your kernel must take as arguments two matrices of shape (n_samples_1, n_features), (n_samples_2, n_features) and return a kernel matrix of shape (n_samples_1, n_samples_2).\n",
        "\n",
        "The following code defines a linear kernel and creates a classifier instance that will use that kernel:"
      ],
      "metadata": {
        "id": "QaBxmGBYspVf"
      }
    },
    {
      "cell_type": "code",
      "source": [
        "import numpy as np\n",
        "from sklearn import svm\n",
        "def my_kernel(X, Y):\n",
        "  return np.dot(X, Y.T)\n"
      ],
      "metadata": {
        "id": "cQcYXXBVstKW"
      },
      "execution_count": 23,
      "outputs": []
    },
    {
      "cell_type": "code",
      "source": [
        "clf = svm.SVC(kernel=my_kernel)"
      ],
      "metadata": {
        "id": "qdbYReiUsvZB"
      },
      "execution_count": 24,
      "outputs": []
    },
    {
      "cell_type": "markdown",
      "source": [
        "Using the Gram matrix"
      ],
      "metadata": {
        "id": "mF4USloDs44r"
      }
    },
    {
      "cell_type": "markdown",
      "source": [
        "You can pass pre-computed kernels by using the kernel='precomputed' option. You should then pass Gram matrix instead of X to the fit and predict methods. The kernel values between all training vectors and the test vectors must be provided:"
      ],
      "metadata": {
        "id": "FFqzWxT5s8lF"
      }
    },
    {
      "cell_type": "code",
      "source": [
        "import numpy as np\n",
        "from sklearn.datasets import make_classification\n",
        "from sklearn.model_selection import train_test_split\n",
        "from sklearn import svm\n",
        "X, y = make_classification(n_samples=10, random_state=0)\n",
        "X_train , X_test , y_train, y_test = train_test_split(X, y, random_state=0)\n",
        "clf = svm.SVC(kernel='precomputed')\n",
        "# linear kernel computation\n",
        "gram_train = np.dot(X_train, X_train.T)\n",
        "clf.fit(gram_train, y_train)"
      ],
      "metadata": {
        "colab": {
          "base_uri": "https://localhost:8080/"
        },
        "id": "ip-YoA-cs_0u",
        "outputId": "10d3bedc-e0ca-43a3-baa7-486c5f650f2c"
      },
      "execution_count": 25,
      "outputs": [
        {
          "output_type": "execute_result",
          "data": {
            "text/plain": [
              "SVC(kernel='precomputed')"
            ]
          },
          "metadata": {},
          "execution_count": 25
        }
      ]
    },
    {
      "cell_type": "code",
      "source": [
        "# predict on training examples\n",
        "gram_test = np.dot(X_test, X_train.T)\n",
        "clf.predict(gram_test)"
      ],
      "metadata": {
        "colab": {
          "base_uri": "https://localhost:8080/"
        },
        "id": "t3YbwcXCtA_s",
        "outputId": "532a6f7b-b8ac-44f8-e8b9-1a2d0ea24008"
      },
      "execution_count": 26,
      "outputs": [
        {
          "output_type": "execute_result",
          "data": {
            "text/plain": [
              "array([0, 1, 0])"
            ]
          },
          "metadata": {},
          "execution_count": 26
        }
      ]
    },
    {
      "cell_type": "markdown",
      "source": [
        "##Mathematical formulation"
      ],
      "metadata": {
        "id": "uEPD9k29tQRn"
      }
    },
    {
      "cell_type": "markdown",
      "source": [
        "A support vector machine constructs a hyper-plane or set of hyper-planes in a high or infinite dimensional space, which can be used for classification, regression or other tasks. Intuitively, a good separation is achieved by the hyper-plane that has the largest distance to the nearest training data points of any class (so-called functional margin), since in general the larger the margin the lower the generalization error of the classifier. The figure below shows the decision function for a linearly separable problem, with three samples on the margin boundaries, called “support vectors”:"
      ],
      "metadata": {
        "id": "W-5hXYdEtVpS"
      }
    },
    {
      "cell_type": "markdown",
      "source": [
        "SVC"
      ],
      "metadata": {
        "id": "4De4V4OWtYkY"
      }
    },
    {
      "cell_type": "markdown",
      "source": [
        "LinearSVC"
      ],
      "metadata": {
        "id": "wXaoEpfPteS4"
      }
    },
    {
      "cell_type": "markdown",
      "source": [
        "NuSVC"
      ],
      "metadata": {
        "id": "7d21NrP_thwA"
      }
    },
    {
      "cell_type": "markdown",
      "source": [
        "SVR"
      ],
      "metadata": {
        "id": "XEa4wu5Ptj4S"
      }
    },
    {
      "cell_type": "markdown",
      "source": [
        "LinearSVR"
      ],
      "metadata": {
        "id": "ZdH6hr3EtmGY"
      }
    },
    {
      "cell_type": "markdown",
      "source": [
        "##Implementation details"
      ],
      "metadata": {
        "id": "yROzQvlAtsJk"
      }
    },
    {
      "cell_type": "markdown",
      "source": [
        "Internally, we use libsvm 12 and liblinear 11 to handle all computations. These libraries are wrapped using C and Cython. For a description of the implementation and details of the algorithms used, please refer to their respective papers."
      ],
      "metadata": {
        "id": "dbD3T_FYtxk0"
      }
    }
  ]
}