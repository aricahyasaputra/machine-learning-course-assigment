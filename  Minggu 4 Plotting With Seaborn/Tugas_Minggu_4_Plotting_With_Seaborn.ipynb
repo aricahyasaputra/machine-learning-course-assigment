{
  "nbformat": 4,
  "nbformat_minor": 0,
  "metadata": {
    "colab": {
      "name": "Tugas Minggu 4  Plotting With Seaborn.ipynb",
      "provenance": [],
      "authorship_tag": "ABX9TyOSN4mfaDdeg84pfK5H7FTb",
      "include_colab_link": true
    },
    "kernelspec": {
      "name": "python3",
      "display_name": "Python 3"
    },
    "language_info": {
      "name": "python"
    }
  },
  "cells": [
    {
      "cell_type": "markdown",
      "metadata": {
        "id": "view-in-github",
        "colab_type": "text"
      },
      "source": [
        "<a href=\"https://colab.research.google.com/github/aricahyasaputra/machine-learning-course-assigment/blob/main/%20Minggu%204%20Plotting%20With%20Seaborn/Tugas_Minggu_4_Plotting_With_Seaborn.ipynb\" target=\"_parent\"><img src=\"https://colab.research.google.com/assets/colab-badge.svg\" alt=\"Open In Colab\"/></a>"
      ]
    },
    {
      "cell_type": "code",
      "execution_count": null,
      "metadata": {
        "id": "1ycH66wl-eZh"
      },
      "outputs": [],
      "source": [
        ""
      ]
    }
  ]
}